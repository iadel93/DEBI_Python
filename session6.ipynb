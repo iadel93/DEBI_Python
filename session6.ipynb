{
 "cells": [
  {
   "cell_type": "markdown",
   "metadata": {},
   "source": [
    "Basic Arithmetic Operations on a String Number :https://edabit.com/challenge/peezjw73G8BBGfHdW"
   ]
  },
  {
   "cell_type": "code",
   "execution_count": 5,
   "metadata": {},
   "outputs": [
    {
     "data": {
      "text/plain": [
       "0.9230769230769231"
      ]
     },
     "execution_count": 5,
     "metadata": {},
     "output_type": "execute_result"
    }
   ],
   "source": [
    "def arithmetic_operation(statement):\n",
    "    numbers = \"0123456789\"\n",
    "    operations = \"+-*/\"\n",
    "    num1 = \"\"\n",
    "    num2 = \"\"\n",
    "    operation = \"\"\n",
    "    s = \"number1\"\n",
    "    for i in range(len(statement)):\n",
    "\n",
    "        if s == \"number1\":\n",
    "            if statement[i] in numbers:\n",
    "                num1 += statement[i]\n",
    "            else:\n",
    "                s = \"operation\"\n",
    "        \n",
    "        elif s == \"operation\":\n",
    "            if statement[i] in operations:\n",
    "                operation += statement[i]\n",
    "            elif statement[i] == \" \":\n",
    "                s = \"number2\"\n",
    "\n",
    "        elif s == \"number2\":\n",
    "            if statement[i] in numbers:\n",
    "                num2 += statement[i]\n",
    "\n",
    "    num1 = int(num1)\n",
    "    num2 = int(num2)\n",
    "\n",
    "    if operation == \"+\":\n",
    "        return num1 + num2\n",
    "    if operation == \"-\":\n",
    "        return num1 - num2\n",
    "    if operation == \"*\":\n",
    "        return num1 * num2\n",
    "    if operation == \"/\":\n",
    "        return num1 / num2\n",
    "    if operation == \"//\":\n",
    "        return num1 // num2\n",
    "    \n",
    "\n",
    "arithmetic_operation(\"12 / 13\")\n",
    "\n",
    "\n"
   ]
  },
  {
   "cell_type": "markdown",
   "metadata": {},
   "source": [
    "# Abstraction"
   ]
  },
  {
   "cell_type": "code",
   "execution_count": null,
   "metadata": {},
   "outputs": [
    {
     "name": "stdout",
     "output_type": "stream",
     "text": [
      "Tom\n",
      "Meow Meow\n",
      "10\n",
      "20\n",
      "50\n"
     ]
    },
    {
     "ename": "AttributeError",
     "evalue": "'cat' object has no attribute '__private_method'",
     "output_type": "error",
     "traceback": [
      "\u001b[1;31m---------------------------------------------------------------------------\u001b[0m",
      "\u001b[1;31mAttributeError\u001b[0m                            Traceback (most recent call last)",
      "Cell \u001b[1;32mIn[14], line 42\u001b[0m\n\u001b[0;32m     40\u001b[0m tom\u001b[38;5;241m.\u001b[39mset_y(\u001b[38;5;241m50\u001b[39m)\n\u001b[0;32m     41\u001b[0m tom\u001b[38;5;241m.\u001b[39mread_y()\n\u001b[1;32m---> 42\u001b[0m \u001b[43mtom\u001b[49m\u001b[38;5;241;43m.\u001b[39;49m\u001b[43m__private_method\u001b[49m()\n",
      "\u001b[1;31mAttributeError\u001b[0m: 'cat' object has no attribute '__private_method'"
     ]
    }
   ],
   "source": [
    "class pet():\n",
    "    def __init__(self,name,color,age):\n",
    "        self.name = name\n",
    "        self.color = color\n",
    "        self.age = age # Public \n",
    "        self._x = 10 # Protected\n",
    "        self.__y = 20 # Private\n",
    "\n",
    "    def read_y(self): #getter\n",
    "        print(self.__y)\n",
    "    \n",
    "    def set_y(self,v): #setter\n",
    "        self.__y = v\n",
    "\n",
    "    def __private_method(self):  # Private Method\n",
    "        print(\"Hello World\")\n",
    "\n",
    "        \n",
    "\n",
    "class cat(pet):\n",
    "    def __init__(self, name, color, age):\n",
    "        super().__init__(name, color, age)\n",
    "\n",
    "    def speak(self):\n",
    "        print(\"Meow Meow\")\n",
    "\n",
    "class dog(pet):\n",
    "    def __init__(self, name, color, age):\n",
    "        super().__init__(name, color, age)\n",
    "\n",
    "    def speak(self):\n",
    "        print(\"Woof Woof\")\n",
    "\n",
    "tom = cat(\"Tom\",\"Grey\",10)\n",
    "print(tom.name)\n",
    "tom.speak()\n",
    "print(tom._x)\n",
    "# print(tom.__y)  ERROR\n",
    "tom.read_y()\n",
    "tom.set_y(50)\n",
    "tom.read_y()\n",
    "tom.__private_method()\n"
   ]
  },
  {
   "cell_type": "markdown",
   "metadata": {},
   "source": [
    "food for everyone : https://edabit.com/challenge/iRvRtg2xxL9BnSEvf"
   ]
  },
  {
   "cell_type": "code",
   "execution_count": 15,
   "metadata": {},
   "outputs": [
    {
     "name": "stdout",
     "output_type": "stream",
     "text": [
      "Ahmed eats the Ice Cream and loves it\n",
      "Ahmed eats the Eggplant and hates it\n",
      "Ahmed eats the eggs\n"
     ]
    }
   ],
   "source": [
    "class person():\n",
    "    def __init__(self,name,likes,hates) -> None:\n",
    "        self.name = name    \n",
    "        self.likes = likes\n",
    "        self.hates = hates\n",
    "    \n",
    "    def taste(self,food):\n",
    "        if food in self.likes:\n",
    "            return self.name + \" eats the \"+food+\" and loves it\"\n",
    "        if food in self.hates:\n",
    "            return self.name + \" eats the \"+food+\" and hates it\"\n",
    "        else:\n",
    "            return self.name + \" eats the \"+food\n",
    "        \n",
    "ahmed = person(\"Ahmed\",[\"Ice Cream\", \"Soup\"],[\"Eggplant\"])\n",
    "print(ahmed.taste(\"Ice Cream\"))\n",
    "print(ahmed.taste(\"Eggplant\"))\n",
    "print(ahmed.taste(\"eggs\"))"
   ]
  },
  {
   "cell_type": "markdown",
   "metadata": {},
   "source": [
    "# Polymorphism"
   ]
  },
  {
   "cell_type": "code",
   "execution_count": null,
   "metadata": {},
   "outputs": [
    {
     "name": "stdout",
     "output_type": "stream",
     "text": [
      "(5,7)\n",
      "(3,4)\n",
      "(8,11)\n",
      "(13,17)\n",
      "5\n",
      "(5,5)\n"
     ]
    }
   ],
   "source": [
    "class point2d():\n",
    "    def __init__(self,x,y) -> None: # Overload\n",
    "        self.x = x\n",
    "        self.y = y\n",
    "\n",
    "    def __str__(self) -> str: # Override\n",
    "        return \"(\"+str(self.x)+\",\"+str(self.y)+\")\"\n",
    "    \n",
    "    def __add__(self,other):\n",
    "        return point2d(self.x+other.x , self.y+other.y)\n",
    "    \n",
    "    def __getitem__(self,idx):\n",
    "        if idx >= 0 and idx <2:\n",
    "            if idx == 0:\n",
    "                return self.x\n",
    "            else:\n",
    "                return self.y\n",
    "        else:\n",
    "            raise \n",
    "        \n",
    "class tmp(point2d):\n",
    "    def __init__(self, x, y) -> None:\n",
    "        super().__init__(x, y)\n",
    "\n",
    "p1 = point2d(5,7)\n",
    "print(p1)\n",
    "p2 = point2d(3,4)\n",
    "print(p2)\n",
    "res = p1 + p2\n",
    "print(res)\n",
    "p3 = point2d(5,6)\n",
    "print(p1+p2+p3)\n",
    "print(p1[0])\n",
    "\n",
    "v = tmp(5,5)\n",
    "print(v)\n"
   ]
  },
  {
   "cell_type": "markdown",
   "metadata": {},
   "source": [
    "# Abstract Classes"
   ]
  },
  {
   "cell_type": "code",
   "execution_count": null,
   "metadata": {},
   "outputs": [
    {
     "name": "stdout",
     "output_type": "stream",
     "text": [
      "John\n",
      "Hello, my name is  John I am Employee\n"
     ]
    }
   ],
   "source": [
    "from abc import ABC, abstractmethod\n",
    "class person(ABC): # Abstrac Class to be use as a base model\n",
    "    def __init__(self,name):\n",
    "        self.name = name\n",
    "\n",
    "    @abstractmethod\n",
    "    def get_role(self):\n",
    "        pass\n",
    "    \n",
    "    def say_hello(self):\n",
    "        self.role = self.get_role() \n",
    "        print(\"Hello, my name is \",self.name,\"I am\",self.role)\n",
    "\n",
    "class employee(person):\n",
    "    def __init__(self, name):\n",
    "        super().__init__(name)\n",
    "\n",
    "    def get_role(self):\n",
    "        return \"Employee\"\n",
    "    \n",
    "# p = person('Ahmed') # Error\n",
    "john = employee(\"John\")\n",
    "print(john.name)\n",
    "john.say_hello()"
   ]
  },
  {
   "cell_type": "code",
   "execution_count": null,
   "metadata": {},
   "outputs": [],
   "source": []
  }
 ],
 "metadata": {
  "kernelspec": {
   "display_name": "base",
   "language": "python",
   "name": "python3"
  },
  "language_info": {
   "codemirror_mode": {
    "name": "ipython",
    "version": 3
   },
   "file_extension": ".py",
   "mimetype": "text/x-python",
   "name": "python",
   "nbconvert_exporter": "python",
   "pygments_lexer": "ipython3",
   "version": "3.12.3"
  }
 },
 "nbformat": 4,
 "nbformat_minor": 2
}
