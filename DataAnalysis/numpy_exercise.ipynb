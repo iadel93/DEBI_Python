{
 "cells": [
  {
   "cell_type": "markdown",
   "metadata": {},
   "source": [
    "### Q_1: create 2D-array that contain even numbers between 0-18...??"
   ]
  },
  {
   "cell_type": "code",
   "execution_count": 1,
   "metadata": {},
   "outputs": [
    {
     "name": "stdout",
     "output_type": "stream",
     "text": [
      "[ 0  2  4  6  8 10 12 14 16 18]\n"
     ]
    }
   ],
   "source": [
    "import numpy as np\n",
    "print(np.arange(0, 19, 2))"
   ]
  },
  {
   "cell_type": "markdown",
   "metadata": {},
   "source": [
    "### Q_2: Replace the negative values with 0 in random array that has value in range (-6,6)"
   ]
  },
  {
   "cell_type": "code",
   "execution_count": 5,
   "metadata": {},
   "outputs": [
    {
     "name": "stdout",
     "output_type": "stream",
     "text": [
      "[ 5 -2  6 -6 -3  1  5 -3 -5  5]\n",
      "[5 0 6 0 0 1 5 0 0 5]\n"
     ]
    }
   ],
   "source": [
    "tmp = np.random.randint(-6, 7, 10)\n",
    "print(tmp)\n",
    "tmp[tmp < 0] = 0\n",
    "print(tmp)"
   ]
  },
  {
   "cell_type": "markdown",
   "metadata": {},
   "source": [
    "### Q_3 :  How to compute ((A+B)*(-A/2)) ?  where A,B random array"
   ]
  },
  {
   "cell_type": "code",
   "execution_count": 7,
   "metadata": {},
   "outputs": [
    {
     "name": "stdout",
     "output_type": "stream",
     "text": [
      "[[-0.02681376 -0.31172755]\n",
      " [-0.25217927 -0.26956982]]\n"
     ]
    }
   ],
   "source": [
    "A = np.random.random((2,2))\n",
    "B = np.random.random((2,2))\n",
    "print((A+B)*(-A/2))"
   ]
  },
  {
   "cell_type": "markdown",
   "metadata": {},
   "source": [
    "### Q_4: How to concatenate two arrays horizontally..?"
   ]
  },
  {
   "cell_type": "code",
   "execution_count": 20,
   "metadata": {},
   "outputs": [
    {
     "name": "stdout",
     "output_type": "stream",
     "text": [
      "[1 2 3 4 5]\n",
      "(5,)\n",
      "[[ 6  7  8  9 10]]\n",
      "[[ 1  2  3  4  5  6  7  8  9 10]]\n"
     ]
    }
   ],
   "source": [
    "A = np.arange(1, 6)\n",
    "print(A)\n",
    "print(A.shape)\n",
    "A = A.reshape(1, 5)\n",
    "B = np.arange(6, 11)\n",
    "B = B.reshape(1, 5)\n",
    "print(B)\n",
    "print(np.concatenate((A, B), axis=1))"
   ]
  },
  {
   "cell_type": "markdown",
   "metadata": {},
   "source": [
    "#### Q_5: Create a array vector of size 3x3 and sort values in Its columns"
   ]
  },
  {
   "cell_type": "code",
   "execution_count": 30,
   "metadata": {},
   "outputs": [
    {
     "name": "stdout",
     "output_type": "stream",
     "text": [
      "[[5 4 4 6 0]\n",
      " [5 5 8 2 8]]\n",
      "[[5 4 4 2 0]\n",
      " [5 5 8 6 8]]\n"
     ]
    }
   ],
   "source": [
    "tmp = np.random.randint(0, 10, 10).reshape(2, 5)\n",
    "print(tmp)\n",
    "\n",
    "tmp.sort(axis=0)\n",
    "print(tmp)"
   ]
  },
  {
   "cell_type": "code",
   "execution_count": null,
   "metadata": {},
   "outputs": [],
   "source": []
  }
 ],
 "metadata": {
  "kernelspec": {
   "display_name": "base",
   "language": "python",
   "name": "python3"
  },
  "language_info": {
   "codemirror_mode": {
    "name": "ipython",
    "version": 3
   },
   "file_extension": ".py",
   "mimetype": "text/x-python",
   "name": "python",
   "nbconvert_exporter": "python",
   "pygments_lexer": "ipython3",
   "version": "3.12.3"
  }
 },
 "nbformat": 4,
 "nbformat_minor": 4
}
