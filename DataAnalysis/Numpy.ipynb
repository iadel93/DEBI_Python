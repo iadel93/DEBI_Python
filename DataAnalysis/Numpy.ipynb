{
 "cells": [
  {
   "cell_type": "code",
   "execution_count": 1,
   "metadata": {},
   "outputs": [
    {
     "name": "stdout",
     "output_type": "stream",
     "text": [
      "[[1. 2. 3.]\n",
      " [4. 5. 6.]]\n",
      "(2, 3)\n",
      "2\n",
      "6\n"
     ]
    }
   ],
   "source": [
    "import numpy as np\n",
    "\n",
    "a = np.array([[1, 2, 3],[4,5,6]],dtype=np.float32)\n",
    "print(a)\n",
    "print(a.shape)\n",
    "print(a.ndim)\n",
    "print(a.size)"
   ]
  },
  {
   "cell_type": "code",
   "execution_count": null,
   "metadata": {},
   "outputs": [
    {
     "name": "stdout",
     "output_type": "stream",
     "text": [
      "[[1. 1. 1.]\n",
      " [1. 1. 1.]\n",
      " [1. 1. 1.]]\n",
      "[[0. 0. 0.]\n",
      " [0. 0. 0.]\n",
      " [0. 0. 0.]]\n",
      "[[1. 0. 0.]\n",
      " [0. 1. 0.]\n",
      " [0. 0. 1.]]\n",
      "[[1 0 0 0]\n",
      " [0 2 0 0]\n",
      " [0 0 3 0]\n",
      " [0 0 0 4]]\n",
      "[[0.91104757 0.92304804 0.38702089 0.4494813 ]\n",
      " [0.3640215  0.65355622 0.81380122 0.67282683]\n",
      " [0.53464398 0.83325634 0.20024184 0.8026951 ]\n",
      " [0.65943287 0.5080335  0.410658   0.36675358]]\n",
      "[[ 0.08317138  2.38463279 -1.30756166 -0.99823801]\n",
      " [-0.87829164  0.03308207  1.78246646  0.58483206]\n",
      " [ 0.10613321 -1.60978974  0.69452432  1.80719978]\n",
      " [-1.02724995  0.09076373 -0.24923074  0.68306201]]\n",
      "[0 2 4 6 8]\n",
      "[ 0.   2.5  5.   7.5 10. ]\n",
      "[ 0.          0.41666667  0.83333333  1.25        1.66666667  2.08333333\n",
      "  2.5         2.91666667  3.33333333  3.75        4.16666667  4.58333333\n",
      "  5.          5.41666667  5.83333333  6.25        6.66666667  7.08333333\n",
      "  7.5         7.91666667  8.33333333  8.75        9.16666667  9.58333333\n",
      " 10.        ]\n"
     ]
    }
   ],
   "source": [
    "a = np.ones((3,3))\n",
    "print(a)\n",
    "b = np.zeros((3,3))\n",
    "print(b)\n",
    "c = np.eye(3)\n",
    "print(c)\n",
    "d = np.diag(np.array([1,2,3,4]))\n",
    "print(d)\n",
    "g = np.random.rand(4,4)\n",
    "print(g)\n",
    "h= np.random.randn(4,4)\n",
    "print(h)\n",
    "z = np.arange(0,10,2)\n",
    "print(z)\n",
    "r = np.linspace(0,10,5)\n",
    "print(r)\n",
    "\n",
    "#create lin space matrix\n",
    "x = np.linspace(0,10,25)\n",
    "print(x)"
   ]
  },
  {
   "cell_type": "code",
   "execution_count": 23,
   "metadata": {},
   "outputs": [
    {
     "data": {
      "text/plain": [
       "array([[ 0.        ,  0.41666667,  0.83333333,  1.25      ,  1.66666667],\n",
       "       [ 2.08333333,  2.5       ,  2.91666667,  3.33333333,  3.75      ],\n",
       "       [ 4.16666667,  4.58333333,  5.        ,  5.41666667,  5.83333333],\n",
       "       [ 6.25      ,  6.66666667,  7.08333333,  7.5       ,  7.91666667],\n",
       "       [ 8.33333333,  8.75      ,  9.16666667,  9.58333333, 10.        ]])"
      ]
     },
     "execution_count": 23,
     "metadata": {},
     "output_type": "execute_result"
    }
   ],
   "source": [
    "x.reshape(5,5)"
   ]
  },
  {
   "cell_type": "code",
   "execution_count": 2,
   "metadata": {},
   "outputs": [
    {
     "name": "stdout",
     "output_type": "stream",
     "text": [
      "[[1 2 3]\n",
      " [4 5 6]]\n",
      "[[1 2 3]\n",
      " [4 5 6]]\n",
      "[[1 2 3 1 2 3]\n",
      " [4 5 6 4 5 6]]\n"
     ]
    }
   ],
   "source": [
    "a = np.array([[1,2,3],[4,5,6]])\n",
    "print(a)\n",
    "b = np.array([[1,2,3],[4,5,6]])\n",
    "print(b)\n",
    "print(np.concatenate((a,b),axis=1))"
   ]
  },
  {
   "cell_type": "code",
   "execution_count": 3,
   "metadata": {},
   "outputs": [
    {
     "name": "stdout",
     "output_type": "stream",
     "text": [
      "[[1 2 3]\n",
      " [4 5 6]]\n",
      "[[1 2 3]\n",
      " [4 5 6]]\n",
      "[[1 2 3]\n",
      " [4 5 6]\n",
      " [1 2 3]\n",
      " [4 5 6]]\n"
     ]
    }
   ],
   "source": [
    "a = np.array([[1,2,3],[4,5,6]])\n",
    "print(a)\n",
    "b = np.array([[1,2,3],[4,5,6]])\n",
    "print(b)\n",
    "print(np.concatenate((a,b),axis=0))"
   ]
  },
  {
   "cell_type": "code",
   "execution_count": 29,
   "metadata": {},
   "outputs": [
    {
     "name": "stdout",
     "output_type": "stream",
     "text": [
      "int64\n",
      "[[1. 2. 3.]\n",
      " [4. 5. 6.]]\n"
     ]
    }
   ],
   "source": [
    "print(a.dtype)\n",
    "print(a.astype(np.float16))"
   ]
  },
  {
   "cell_type": "code",
   "execution_count": 30,
   "metadata": {},
   "outputs": [
    {
     "data": {
      "text/plain": [
       "array([[0, 0, 0],\n",
       "       [0, 0, 0]])"
      ]
     },
     "execution_count": 30,
     "metadata": {},
     "output_type": "execute_result"
    }
   ],
   "source": [
    "np.zeros_like(a)"
   ]
  },
  {
   "cell_type": "code",
   "execution_count": 35,
   "metadata": {},
   "outputs": [
    {
     "name": "stdout",
     "output_type": "stream",
     "text": [
      "[[1 2]\n",
      " [3 4]]\n",
      "[[1 2 3 4]]\n",
      "[[1]\n",
      " [2]\n",
      " [3]\n",
      " [4]]\n",
      "[[1]\n",
      " [2]\n",
      " [3]\n",
      " [4]]\n"
     ]
    },
    {
     "ename": "ValueError",
     "evalue": "cannot reshape array of size 4 into shape (3,newaxis)",
     "output_type": "error",
     "traceback": [
      "\u001b[1;31m---------------------------------------------------------------------------\u001b[0m",
      "\u001b[1;31mValueError\u001b[0m                                Traceback (most recent call last)",
      "Cell \u001b[1;32mIn[35], line 6\u001b[0m\n\u001b[0;32m      4\u001b[0m \u001b[38;5;28mprint\u001b[39m(A\u001b[38;5;241m.\u001b[39mreshape(\u001b[38;5;241m4\u001b[39m,\u001b[38;5;241m1\u001b[39m))\n\u001b[0;32m      5\u001b[0m \u001b[38;5;28mprint\u001b[39m(A\u001b[38;5;241m.\u001b[39mreshape(\u001b[38;5;241m4\u001b[39m,\u001b[38;5;241m-\u001b[39m\u001b[38;5;241m1\u001b[39m))\n\u001b[1;32m----> 6\u001b[0m \u001b[38;5;28mprint\u001b[39m(\u001b[43mA\u001b[49m\u001b[38;5;241;43m.\u001b[39;49m\u001b[43mreshape\u001b[49m\u001b[43m(\u001b[49m\u001b[38;5;241;43m3\u001b[39;49m\u001b[43m,\u001b[49m\u001b[38;5;241;43m-\u001b[39;49m\u001b[38;5;241;43m1\u001b[39;49m\u001b[43m)\u001b[49m)\n",
      "\u001b[1;31mValueError\u001b[0m: cannot reshape array of size 4 into shape (3,newaxis)"
     ]
    }
   ],
   "source": [
    "A = np.array([[1,2],[3,4]])\n",
    "print(A)\n",
    "print(A.reshape(1,4))\n",
    "print(A.reshape(4,1))\n",
    "print(A.reshape(4,-1))\n",
    "print(A.reshape(3,-1))"
   ]
  },
  {
   "cell_type": "code",
   "execution_count": 40,
   "metadata": {},
   "outputs": [
    {
     "name": "stdout",
     "output_type": "stream",
     "text": [
      "[[ 5  6  7]\n",
      " [ 8  9 10]]\n",
      "[[ 5  6  7  8  9 10]]\n",
      "[[ 5  6]\n",
      " [ 7  8]\n",
      " [ 9 10]]\n"
     ]
    }
   ],
   "source": [
    "B = np.array([[5,6],[7,8],[9,10]])\n",
    "print(B.reshape(2,-1))\n",
    "print(B.reshape(1,-1))\n",
    "print(B.reshape(-1,2))"
   ]
  },
  {
   "cell_type": "code",
   "execution_count": 43,
   "metadata": {},
   "outputs": [
    {
     "name": "stdout",
     "output_type": "stream",
     "text": [
      "[[[ 5  6  7]\n",
      "  [ 8  9 10]]]\n",
      "[[[ 5  6  7]]\n",
      "\n",
      " [[ 8  9 10]]]\n",
      "(2, 1, 3)\n"
     ]
    }
   ],
   "source": [
    "print(B.reshape(1,2,3))\n",
    "print(B.reshape(2,1,3))\n",
    "print(B.reshape(2,1,3).shape)"
   ]
  },
  {
   "cell_type": "code",
   "execution_count": 4,
   "metadata": {},
   "outputs": [
    {
     "name": "stdout",
     "output_type": "stream",
     "text": [
      "[[1 2]\n",
      " [3 4]\n",
      " [5 6]]\n",
      "[[1 3 5]\n",
      " [2 4 6]]\n"
     ]
    }
   ],
   "source": [
    "A = np.array([[1,2],[3,4],[5,6]])\n",
    "print(A)\n",
    "print(A.T)"
   ]
  },
  {
   "cell_type": "code",
   "execution_count": 10,
   "metadata": {},
   "outputs": [
    {
     "name": "stdout",
     "output_type": "stream",
     "text": [
      "[[ 1  2  3  4  5]\n",
      " [ 6  7  8  9 10]\n",
      " [11 12 13 14 15]\n",
      " [16 17 18 19 20]\n",
      " [21 22 23 24 25]]\n"
     ]
    }
   ],
   "source": [
    "mat = np.arange(1,26).reshape(5,5)\n",
    "print(mat)"
   ]
  },
  {
   "cell_type": "code",
   "execution_count": 50,
   "metadata": {},
   "outputs": [
    {
     "name": "stdout",
     "output_type": "stream",
     "text": [
      "[[ 2  4  6  8 10]\n",
      " [12 14 16 18 20]\n",
      " [22 24 26 28 30]\n",
      " [32 34 36 38 40]\n",
      " [42 44 46 48 50]]\n",
      "[[0 0 0 0 0]\n",
      " [0 0 0 0 0]\n",
      " [0 0 0 0 0]\n",
      " [0 0 0 0 0]\n",
      " [0 0 0 0 0]]\n",
      "[[  1   4   9  16  25]\n",
      " [ 36  49  64  81 100]\n",
      " [121 144 169 196 225]\n",
      " [256 289 324 361 400]\n",
      " [441 484 529 576 625]]\n"
     ]
    }
   ],
   "source": [
    "# Arithmetic operations\n",
    "print(mat + mat)\n",
    "print(mat - mat)\n",
    "print(mat * mat)"
   ]
  },
  {
   "cell_type": "code",
   "execution_count": 52,
   "metadata": {},
   "outputs": [
    {
     "name": "stdout",
     "output_type": "stream",
     "text": [
      "[[101 102 103 104 105]\n",
      " [106 107 108 109 110]\n",
      " [111 112 113 114 115]\n",
      " [116 117 118 119 120]\n",
      " [121 122 123 124 125]]\n",
      "[[-99 -98 -97 -96 -95]\n",
      " [-94 -93 -92 -91 -90]\n",
      " [-89 -88 -87 -86 -85]\n",
      " [-84 -83 -82 -81 -80]\n",
      " [-79 -78 -77 -76 -75]]\n",
      "[[ 100  200  300  400  500]\n",
      " [ 600  700  800  900 1000]\n",
      " [1100 1200 1300 1400 1500]\n",
      " [1600 1700 1800 1900 2000]\n",
      " [2100 2200 2300 2400 2500]]\n"
     ]
    }
   ],
   "source": [
    "# scalar operations\n",
    "print(mat + 100)\n",
    "print(mat - 100)\n",
    "print(mat * 100)"
   ]
  },
  {
   "cell_type": "code",
   "execution_count": 7,
   "metadata": {},
   "outputs": [
    {
     "name": "stdout",
     "output_type": "stream",
     "text": [
      "[[97]\n",
      " [99]\n",
      " [96]\n",
      " [ 4]\n",
      " [ 6]]\n",
      "[[ 629]\n",
      " [2139]\n",
      " [3649]\n",
      " [5159]\n",
      " [6669]]\n"
     ]
    }
   ],
   "source": [
    "# Matrix multiplication\n",
    "ran_mat = np.random.randint(1,100,5).reshape(5,1)\n",
    "print(ran_mat)\n",
    "print(mat.dot(ran_mat))"
   ]
  },
  {
   "cell_type": "code",
   "execution_count": 56,
   "metadata": {},
   "outputs": [
    {
     "name": "stdout",
     "output_type": "stream",
     "text": [
      "[[False False False False False]\n",
      " [False False False False False]\n",
      " [ True  True  True  True  True]\n",
      " [ True  True  True  True  True]\n",
      " [ True  True  True  True  True]]\n"
     ]
    }
   ],
   "source": [
    "# logical operations\n",
    "print(mat > 10)"
   ]
  },
  {
   "cell_type": "code",
   "execution_count": 57,
   "metadata": {},
   "outputs": [
    {
     "data": {
      "text/plain": [
       "array([11, 12, 13, 14, 15, 16, 17, 18, 19, 20, 21, 22, 23, 24, 25])"
      ]
     },
     "execution_count": 57,
     "metadata": {},
     "output_type": "execute_result"
    }
   ],
   "source": [
    "mat[mat > 10]"
   ]
  },
  {
   "cell_type": "code",
   "execution_count": 13,
   "metadata": {},
   "outputs": [
    {
     "name": "stdout",
     "output_type": "stream",
     "text": [
      "[[26 27 28 29 30]\n",
      " [31 32 33 34 35]\n",
      " [36 37 38 39 40]\n",
      " [41 42 43 44 45]\n",
      " [46 47 48 49 50]]\n",
      "[[0.03846154 0.07407407 0.10714286 0.13793103 0.16666667]\n",
      " [0.19354838 0.21875    0.24242425 0.2647059  0.2857143 ]\n",
      " [0.30555555 0.3243243  0.34210527 0.35897437 0.375     ]\n",
      " [0.3902439  0.4047619  0.41860464 0.4318182  0.44444445]\n",
      " [0.45652175 0.4680851  0.47916666 0.48979592 0.5       ]]\n"
     ]
    }
   ],
   "source": [
    "tmp = np.arange(26,51).reshape(5,5)\n",
    "mat = mat.astype(np.float32)\n",
    "print(tmp)\n",
    "mat /= tmp\n",
    "print(mat)"
   ]
  },
  {
   "cell_type": "code",
   "execution_count": null,
   "metadata": {},
   "outputs": [
    {
     "name": "stdout",
     "output_type": "stream",
     "text": [
      "[[1.0190493 1.0363754 1.0522085 1.0667385 1.0801234]\n",
      " [1.0924964 1.10397   1.1146408 1.1245915 1.1338934]\n",
      " [1.1426091 1.150793  1.1584927 1.1657505 1.172604 ]\n",
      " [1.1790861 1.1852266 1.1910518 1.196586  1.2018504]\n",
      " [1.2068645 1.2116456 1.2162099 1.220572  1.2247449]]\n",
      "[[2.8248677 2.9272811 3.025701  3.1203055 3.2112703]\n",
      " [3.298766  3.382956  3.4640007 3.5420508 3.6172507]\n",
      " [3.6897385 3.7596443 3.8270922 3.8921993 3.9550767]\n",
      " [4.0158296 4.0745564 4.1313515 4.186303  4.239496 ]\n",
      " [4.2910085 4.3409142 4.3892865 4.43619   4.481689 ]]\n",
      "[[0.8616244  0.87914926 0.89442456 0.90776753 0.919445  ]\n",
      " [0.9296819  0.9386691  0.9465686  0.9535189  0.9596386 ]\n",
      " [0.9650294  0.96977925 0.973964   0.97764945 0.9808931 ]\n",
      " [0.9837446  0.9862479  0.98844117 0.99035805 0.99202824]\n",
      " [0.99347776 0.9947298  0.9958049  0.99672127 0.997495  ]]\n"
     ]
    }
   ],
   "source": [
    "print(np.sqrt(mat))\n",
    "print(np.exp(mat))\n",
    "print(np.sin(mat))"
   ]
  },
  {
   "cell_type": "code",
   "execution_count": 22,
   "metadata": {},
   "outputs": [
    {
     "name": "stdout",
     "output_type": "stream",
     "text": [
      "[[ 1  2  3  4  5]\n",
      " [ 6  7  8  9 10]\n",
      " [11 12 13 14 15]\n",
      " [16 17 18 19 20]\n",
      " [21 22 23 24 25]]\n",
      "[1 2 3 4 5]\n",
      "15\n",
      "[[11 12 13 14 15]\n",
      " [21 22 23 24 25]]\n",
      "[[ 1  2  3  4  5]\n",
      " [ 6  7  8  9 10]\n",
      " [ 0  0  0  0  0]\n",
      " [16 17 18 19 20]\n",
      " [ 0  0  0  0  0]]\n"
     ]
    }
   ],
   "source": [
    "# Indexing and slicing\n",
    "mat = np.arange(1,26).reshape(5,5)\n",
    "print(mat)\n",
    "print(mat[0])\n",
    "print(mat[2][4])\n",
    "print(mat[[2,4],:])\n",
    "mat[[2,4],:]=0\n",
    "print(mat)"
   ]
  },
  {
   "cell_type": "code",
   "execution_count": 21,
   "metadata": {},
   "outputs": [
    {
     "name": "stdout",
     "output_type": "stream",
     "text": [
      "[11 12 13 14 15]\n",
      "[21 22 23 24 25]\n",
      "[[11 12 13 14 15]\n",
      " [21 22 23 24 25]]\n"
     ]
    }
   ],
   "source": [
    "print(mat[2])\n",
    "print(mat[4])\n",
    "print(mat[[2,4]])"
   ]
  },
  {
   "cell_type": "code",
   "execution_count": 75,
   "metadata": {},
   "outputs": [
    {
     "name": "stdout",
     "output_type": "stream",
     "text": [
      "145\n",
      "[23 26 29 32 35]\n",
      "[15 40  0 90  0]\n"
     ]
    }
   ],
   "source": [
    "# sum\n",
    "print(mat.sum())\n",
    "print(mat.sum(axis=0))\n",
    "print(mat.sum(axis=1))"
   ]
  },
  {
   "cell_type": "code",
   "execution_count": null,
   "metadata": {},
   "outputs": [
    {
     "name": "stdout",
     "output_type": "stream",
     "text": [
      "20\n",
      "0\n",
      "5.8\n"
     ]
    }
   ],
   "source": [
    "print(mat.max())\n",
    "print(mat.min())\n",
    "print(mat.mean())"
   ]
  },
  {
   "cell_type": "code",
   "execution_count": 24,
   "metadata": {},
   "outputs": [
    {
     "name": "stdout",
     "output_type": "stream",
     "text": [
      "[[ 1  2  3  4  5]\n",
      " [ 6  7  8  9 10]\n",
      " [ 0  0  0  0  0]\n",
      " [16 17 18 19 20]\n",
      " [ 0  0  0  0  0]]\n",
      "19\n"
     ]
    }
   ],
   "source": [
    "print(mat)\n",
    "print(mat.argmax())"
   ]
  },
  {
   "cell_type": "code",
   "execution_count": 25,
   "metadata": {},
   "outputs": [
    {
     "name": "stdout",
     "output_type": "stream",
     "text": [
      "[ 0  2  4  6  8 10 12 14 16 18]\n"
     ]
    }
   ],
   "source": [
    "print(np.arange(0,19,2))"
   ]
  },
  {
   "cell_type": "code",
   "execution_count": 27,
   "metadata": {},
   "outputs": [
    {
     "name": "stdout",
     "output_type": "stream",
     "text": [
      "[ 6 -4  2  5 -2  2 -4 -6 -4 -1]\n",
      "[6 0 2 5 0 2 0 0 0 0]\n"
     ]
    }
   ],
   "source": [
    "arr = np.random.randint(-6,7,10)\n",
    "print(arr)\n",
    "arr[arr <0]=0\n",
    "print(arr)"
   ]
  },
  {
   "cell_type": "code",
   "execution_count": 28,
   "metadata": {},
   "outputs": [
    {
     "name": "stdout",
     "output_type": "stream",
     "text": [
      "[[5 6 4]\n",
      " [9 8 4]\n",
      " [4 5 6]]\n",
      "[[4 4 7]\n",
      " [6 1 6]\n",
      " [1 9 3]]\n",
      "[[-22.5 -30.  -22. ]\n",
      " [-67.5 -36.  -20. ]\n",
      " [-10.  -35.  -27. ]]\n"
     ]
    }
   ],
   "source": [
    "A = np.random.randint(1,10,9).reshape(3,3)\n",
    "print(A)\n",
    "B = np.random.randint(1,10,9).reshape(3,3)\n",
    "print(B)\n",
    "\n",
    "print((A+B)*(-A/2))"
   ]
  },
  {
   "cell_type": "code",
   "execution_count": 29,
   "metadata": {},
   "outputs": [
    {
     "name": "stdout",
     "output_type": "stream",
     "text": [
      "[[ 1  2  3  7  8  9]\n",
      " [ 4  5  6 10 11 12]]\n"
     ]
    }
   ],
   "source": [
    "arr1 = np.array([[1,2,3],[4,5,6]])\n",
    "arr2 = np.array([[7,8,9],[10,11,12]])\n",
    "print(np.concatenate((arr1,arr2),axis=1))"
   ]
  },
  {
   "cell_type": "code",
   "execution_count": 32,
   "metadata": {},
   "outputs": [
    {
     "name": "stdout",
     "output_type": "stream",
     "text": [
      "[[4 1 8]\n",
      " [7 8 5]\n",
      " [9 3 7]]\n",
      "[[4 1 5]\n",
      " [7 3 7]\n",
      " [9 8 8]]\n"
     ]
    }
   ],
   "source": [
    "arr = np.random.randint(0,10,9).reshape(3,3)\n",
    "print(arr)\n",
    "arr.sort(axis=0)\n",
    "print(arr)"
   ]
  },
  {
   "cell_type": "code",
   "execution_count": null,
   "metadata": {},
   "outputs": [],
   "source": []
  }
 ],
 "metadata": {
  "kernelspec": {
   "display_name": "base",
   "language": "python",
   "name": "python3"
  },
  "language_info": {
   "codemirror_mode": {
    "name": "ipython",
    "version": 3
   },
   "file_extension": ".py",
   "mimetype": "text/x-python",
   "name": "python",
   "nbconvert_exporter": "python",
   "pygments_lexer": "ipython3",
   "version": "3.12.3"
  }
 },
 "nbformat": 4,
 "nbformat_minor": 2
}
