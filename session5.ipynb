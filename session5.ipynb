{
 "cells": [
  {
   "cell_type": "markdown",
   "metadata": {},
   "source": [
    "Validate Price :https://edabit.com/challenge/bTQyk8xSumqLSzeXX"
   ]
  },
  {
   "cell_type": "code",
   "execution_count": 39,
   "metadata": {},
   "outputs": [
    {
     "data": {
      "text/plain": [
       "False"
      ]
     },
     "execution_count": 39,
     "metadata": {},
     "output_type": "execute_result"
    }
   ],
   "source": [
    "def validate_price(data):\n",
    "    if (type(data[\"Price\"]) != int) and (type(data[\"Price\"]) != float):\n",
    "\n",
    "        return False\n",
    "    elif data[\"Price\"] <0:\n",
    "        return False\n",
    "    else:\n",
    "        return True\n",
    "\n",
    "validate_price({\"Produc\":\"Milk\",\"Price\":\"0\"})"
   ]
  },
  {
   "cell_type": "markdown",
   "metadata": {},
   "source": [
    "# Variable Scope"
   ]
  },
  {
   "cell_type": "code",
   "execution_count": null,
   "metadata": {},
   "outputs": [
    {
     "name": "stdout",
     "output_type": "stream",
     "text": [
      "[1, 2, 3, 34, 54, 456, 34, 24]\n",
      "[1, 2, 3, 34, 54, 456, 34, 24]\n"
     ]
    }
   ],
   "source": [
    "nums = [34,54,23,456,57,34,24,5] # global vraiable\n",
    "tmp = [1,2,3]  # global \n",
    "def get_evens():\n",
    "    tmp = [] # local \n",
    "    for num in nums:\n",
    "        if num%2==0:\n",
    "            tmp.append(num)\n",
    "\n",
    "    return tmp\n",
    "\n",
    "print(get_evens())\n",
    "print(tmp)"
   ]
  },
  {
   "cell_type": "code",
   "execution_count": 5,
   "metadata": {},
   "outputs": [
    {
     "name": "stdout",
     "output_type": "stream",
     "text": [
      "7\n",
      "5\n",
      "7\n",
      "7\n"
     ]
    }
   ],
   "source": [
    "# Vraibale (global) : Scope -> across the file , \n",
    "#                     lifitime -> when the program finishes\n",
    "# Variable (Local)  : Scope -> Function \"Block\" , \n",
    "#                     lifetime -> when the function or block ends\n",
    "\n",
    "c = 5\n",
    "def func():\n",
    "    c = 7\n",
    "    print(c)\n",
    "func()\n",
    "print(c)\n",
    "\n",
    "c = 5\n",
    "def func():\n",
    "    global c\n",
    "    c = 7\n",
    "    print(c)\n",
    "func()\n",
    "print(c)"
   ]
  },
  {
   "cell_type": "markdown",
   "metadata": {},
   "source": [
    "# Object Oriented Programming\n",
    "\n",
    "OOP is based on 4 principles:\n",
    " - Encapsulation\n",
    " - Inheritance\n",
    " - Abstraction\n",
    " - Polymorphism\n",
    " "
   ]
  },
  {
   "cell_type": "code",
   "execution_count": 46,
   "metadata": {},
   "outputs": [
    {
     "name": "stdout",
     "output_type": "stream",
     "text": [
      "<__main__.car object at 0x00000221BAE4FA40>\n",
      "<class '__main__.car'>\n",
      "None\n",
      "X6\n",
      "Black\n"
     ]
    }
   ],
   "source": [
    "class car():\n",
    "    # Attributes\n",
    "    model = None\n",
    "    color = None\n",
    "    brand = None\n",
    "\n",
    "# object\n",
    "bmw = car()\n",
    "print(bmw)\n",
    "print(type(bmw))\n",
    "print(bmw.model)\n",
    "bmw.model = \"X6\"\n",
    "bmw.color = \"Black\"\n",
    "print(bmw.model)\n",
    "print(bmw.color)"
   ]
  },
  {
   "cell_type": "code",
   "execution_count": null,
   "metadata": {},
   "outputs": [
    {
     "name": "stdout",
     "output_type": "stream",
     "text": [
      "Audi Q8\n",
      "0\n",
      "4\n",
      "8\n",
      "7\n"
     ]
    }
   ],
   "source": [
    "class car():\n",
    "    # Attributes\n",
    "    model = None\n",
    "    color = None\n",
    "    speed = 0\n",
    "\n",
    "    # Methods\n",
    "    def acclerate(self,x):\n",
    "        self.speed += x\n",
    "\n",
    "    def deacclerate(self):\n",
    "        self.speed -= 1\n",
    "\n",
    "audi = car()\n",
    "audi.model = \"Audi Q8\"\n",
    "print(audi.model)\n",
    "print(audi.speed)\n",
    "audi.acclerate(4)   #audi.accelrate(audi, x)\n",
    "print(audi.speed)\n",
    "audi.acclerate(4)   #audi.accelrate(audi, x)\n",
    "print(audi.speed)\n",
    "audi.deacclerate()\n",
    "print(audi.speed)\n"
   ]
  },
  {
   "cell_type": "markdown",
   "metadata": {},
   "source": [
    "Name class :https://edabit.com/challenge/kbtju9wk5pjGYMmHF"
   ]
  },
  {
   "cell_type": "code",
   "execution_count": 53,
   "metadata": {},
   "outputs": [
    {
     "name": "stdout",
     "output_type": "stream",
     "text": [
      "Ahmed Hassan\n",
      "A.H\n"
     ]
    }
   ],
   "source": [
    "class Name():\n",
    "    first = None\n",
    "    last = None\n",
    "\n",
    "    def get_fullName(self):\n",
    "        self.full_name = self.first + \" \"+ self.last\n",
    "\n",
    "    def get_initials(self):\n",
    "        self.initials = self.first[0]+\".\"+self.last[0]\n",
    "\n",
    "ahmed = Name()\n",
    "ahmed.first = \"Ahmed\"\n",
    "ahmed.last = \"Hassan\"\n",
    "ahmed.get_fullName()\n",
    "ahmed.get_initials()\n",
    "print(ahmed.full_name)\n",
    "print(ahmed.initials)"
   ]
  },
  {
   "cell_type": "markdown",
   "metadata": {},
   "source": [
    "Create class Calculator: https://edabit.com/challenge/ta8GBizBNbRGo5iC6"
   ]
  },
  {
   "cell_type": "code",
   "execution_count": 22,
   "metadata": {},
   "outputs": [
    {
     "name": "stdout",
     "output_type": "stream",
     "text": [
      "10\n",
      "-2\n",
      "24\n",
      "0.6666666666666666\n"
     ]
    }
   ],
   "source": [
    "class Calculator():\n",
    "    def add(self,x,y):\n",
    "        return x+y\n",
    "    def sub(self,x,y):\n",
    "        return x-y\n",
    "    def mul(self,x,y):\n",
    "        return x*y\n",
    "    def div(self,x,y):\n",
    "        return x/y\n",
    "    \n",
    "calc = Calculator()  # Instance of class calculator\n",
    "print(calc.add(4,6))\n",
    "print(calc.sub(4,6))\n",
    "print(calc.mul(4,6))\n",
    "print(calc.div(4,6))"
   ]
  },
  {
   "cell_type": "code",
   "execution_count": 58,
   "metadata": {},
   "outputs": [
    {
     "name": "stdout",
     "output_type": "stream",
     "text": [
      "Class Created\n",
      "7\n"
     ]
    }
   ],
   "source": [
    "# Constructor\n",
    "class Calculator():\n",
    "\n",
    "    def __init__(self, x , y):\n",
    "        self.x = x\n",
    "        self.y = y\n",
    "        print(\"Class Created\")\n",
    "\n",
    "    def add(self):\n",
    "        return self.x + self.y\n",
    "    \n",
    "calc = Calculator(3,4)\n",
    "print(calc.add())"
   ]
  },
  {
   "cell_type": "markdown",
   "metadata": {},
   "source": [
    "Create circle class: https://edabit.com/challenge/nC7iHBbN8FEPy2EJ2"
   ]
  },
  {
   "cell_type": "code",
   "execution_count": 33,
   "metadata": {},
   "outputs": [
    {
     "name": "stdout",
     "output_type": "stream",
     "text": [
      "28.26\n",
      "18.84\n"
     ]
    }
   ],
   "source": [
    "class Circle():\n",
    "    def __init__(self,r) -> None:\n",
    "        self.r = r\n",
    "        self.pi = 3.14\n",
    "\n",
    "    def getArea(self):\n",
    "        return self.pi * (self.r**2)\n",
    "    \n",
    "    def getPerimeter(self):\n",
    "        return 2 * self.pi * self.r\n",
    "    \n",
    "c = Circle(3)\n",
    "print(c.getArea())\n",
    "print(c.getPerimeter())"
   ]
  },
  {
   "cell_type": "markdown",
   "metadata": {},
   "source": [
    "# Inheritance"
   ]
  },
  {
   "cell_type": "code",
   "execution_count": 59,
   "metadata": {},
   "outputs": [
    {
     "name": "stdout",
     "output_type": "stream",
     "text": [
      "Meow Meow\n",
      "Woof Woof\n"
     ]
    }
   ],
   "source": [
    "\n",
    "class cat():\n",
    "    def __init__(self,c,n,a):\n",
    "        self.color = c\n",
    "        self.name = n\n",
    "        self.age = a\n",
    "    \n",
    "    def speak(self):\n",
    "        print(\"Meow Meow\")\n",
    "\n",
    "class dog():\n",
    "    def __init__(self,c,n,a) -> None:\n",
    "        self.color = c\n",
    "        self.name = n\n",
    "        self.age = a\n",
    "\n",
    "    def speak(self):\n",
    "        print(\"Woof Woof\")\n",
    "\n",
    "tom = cat(\"Grey\" ,\"Tom\", 30)\n",
    "spike = dog(\"Grey\" ,\"Spike\", 20)\n",
    "tom.speak()\n",
    "spike.speak()\n",
    "\n",
    "\n"
   ]
  },
  {
   "cell_type": "code",
   "execution_count": 61,
   "metadata": {},
   "outputs": [
    {
     "name": "stdout",
     "output_type": "stream",
     "text": [
      "Meow Meow\n",
      "Woof Woof\n"
     ]
    }
   ],
   "source": [
    "class pet(): # Super  / Parent class\n",
    "    def __init__(self,c,n,a):\n",
    "        self.color = c\n",
    "        self.name = n\n",
    "        self.age = a\n",
    "    \n",
    "class cat(pet):  # Sub / Child Class\n",
    "    def __init__(self, c, n, a) -> None:\n",
    "        super().__init__(c, n, a)\n",
    "\n",
    "    def speak(self):\n",
    "        print(\"Meow Meow\")\n",
    "\n",
    "class dog(pet):\n",
    "    def __init__(self, c, n, a) -> None:\n",
    "        super().__init__(c, n, a)\n",
    "\n",
    "    def speak(self):\n",
    "        print(\"Woof Woof\")\n",
    "\n",
    "tom = cat(\"Grey\" ,\"Tom\", 30)\n",
    "spike = dog(\"Grey\" ,\"Spike\", 20)\n",
    "tom.speak()\n",
    "spike.speak()\n",
    "\n",
    "\n"
   ]
  },
  {
   "cell_type": "markdown",
   "metadata": {},
   "source": [
    "get country comparison: https://edabit.com/challenge/smLmHK89zNoeaDSZp"
   ]
  },
  {
   "cell_type": "code",
   "execution_count": 62,
   "metadata": {},
   "outputs": [
    {
     "data": {
      "text/plain": [
       "'Australia has a larger population density than Andorra'"
      ]
     },
     "execution_count": 62,
     "metadata": {},
     "output_type": "execute_result"
    }
   ],
   "source": [
    "class Country():\n",
    "    def __init__(self, n , p , a) -> None:\n",
    "        self.population = p\n",
    "        self.name = n\n",
    "        self.area = a\n",
    "        if a > 3000000 or p > 250000000:\n",
    "            self.is_big = True\n",
    "        else:\n",
    "            self.is_big = False\n",
    "\n",
    "    def compare(self,another):\n",
    "        if self.population > another.population:\n",
    "            sentence = \" has a larger population density than \"\n",
    "            return self.name + sentence + another.name\n",
    "        else:\n",
    "            sentence = \" has a smaller population density than \"\n",
    "            return self.name + sentence + another.name\n",
    "        \n",
    "australia = Country(\"Australia\", 23545500, 7692024)\n",
    "andorra = Country(\"Andorra\", 76098, 468)\n",
    "\n",
    "australia.compare(andorra)\n"
   ]
  },
  {
   "cell_type": "code",
   "execution_count": null,
   "metadata": {},
   "outputs": [],
   "source": []
  }
 ],
 "metadata": {
  "kernelspec": {
   "display_name": "base",
   "language": "python",
   "name": "python3"
  },
  "language_info": {
   "codemirror_mode": {
    "name": "ipython",
    "version": 3
   },
   "file_extension": ".py",
   "mimetype": "text/x-python",
   "name": "python",
   "nbconvert_exporter": "python",
   "pygments_lexer": "ipython3",
   "version": "3.12.3"
  }
 },
 "nbformat": 4,
 "nbformat_minor": 2
}
