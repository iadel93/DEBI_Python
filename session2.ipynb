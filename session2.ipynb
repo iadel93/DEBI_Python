{
 "cells": [
  {
   "cell_type": "markdown",
   "metadata": {},
   "source": [
    "# String"
   ]
  },
  {
   "cell_type": "code",
   "execution_count": 15,
   "metadata": {},
   "outputs": [
    {
     "name": "stdout",
     "output_type": "stream",
     "text": [
      "ISlam\n",
      "Hello ISlam\n",
      "ISlamISlamISlam\n",
      "S\n",
      "a\n",
      "Sla\n",
      "ISl\n",
      "lam\n",
      "m\n",
      "l\n",
      "Ilm\n"
     ]
    }
   ],
   "source": [
    "name  = \"ISlam\"\n",
    "\n",
    "print(name)\n",
    "\n",
    "# Add / Multiply\n",
    "print(\"Hello \"+name) # Concatination\n",
    "print(name *3) # Retitition\n",
    "\n",
    "# Slicing\n",
    "print(name[1])\n",
    "print(name[3])\n",
    "print(name[1:4])\n",
    "print(name[:3])\n",
    "print(name[2:])\n",
    "\n",
    "print(name[-1])\n",
    "print(name[-3])\n",
    "\n",
    "#Step Size\n",
    "print(name[0:5:2])"
   ]
  },
  {
   "cell_type": "markdown",
   "metadata": {},
   "source": [
    "# Input"
   ]
  },
  {
   "cell_type": "code",
   "execution_count": 16,
   "metadata": {},
   "outputs": [
    {
     "name": "stdout",
     "output_type": "stream",
     "text": [
      "50\n"
     ]
    }
   ],
   "source": [
    "number  = input()\n",
    "print(number)"
   ]
  },
  {
   "cell_type": "code",
   "execution_count": 17,
   "metadata": {},
   "outputs": [
    {
     "name": "stdout",
     "output_type": "stream",
     "text": [
      "40\n"
     ]
    }
   ],
   "source": [
    "number = input(\"Please enter a number :\")\n",
    "print(number)"
   ]
  },
  {
   "cell_type": "code",
   "execution_count": 18,
   "metadata": {},
   "outputs": [
    {
     "name": "stdout",
     "output_type": "stream",
     "text": [
      "505050\n"
     ]
    }
   ],
   "source": [
    "number = input(\"Please enter a number: \")\n",
    "print(number * 3)"
   ]
  },
  {
   "cell_type": "code",
   "execution_count": 21,
   "metadata": {},
   "outputs": [
    {
     "name": "stdout",
     "output_type": "stream",
     "text": [
      "150\n"
     ]
    }
   ],
   "source": [
    "# Casting\n",
    "# int() , float()\n",
    "# number = input(\"Please enter a number :\")\n",
    "# number  = int(number)\n",
    "number  = int(input(\"please enter a number :\"))\n",
    "print(number * 3)"
   ]
  },
  {
   "cell_type": "code",
   "execution_count": 22,
   "metadata": {},
   "outputs": [
    {
     "name": "stdout",
     "output_type": "stream",
     "text": [
      "fifty\n"
     ]
    }
   ],
   "source": [
    "number  = 50\n",
    "number = \"fifty\"\n",
    "print(number)"
   ]
  },
  {
   "cell_type": "code",
   "execution_count": 24,
   "metadata": {},
   "outputs": [
    {
     "name": "stdout",
     "output_type": "stream",
     "text": [
      "9\n"
     ]
    }
   ],
   "source": [
    "x = int(input(\"Please enter a number :\"))\n",
    "y = int(input(\"Please enter a number :\"))\n",
    "print(x+y)"
   ]
  },
  {
   "cell_type": "markdown",
   "metadata": {},
   "source": [
    "# Data Structure"
   ]
  },
  {
   "cell_type": "code",
   "execution_count": null,
   "metadata": {},
   "outputs": [],
   "source": [
    "# Data Structure\n",
    "# Sequantial ==> List , Tuple\n",
    "# Non-Seqential ==> Dict , Set"
   ]
  },
  {
   "cell_type": "markdown",
   "metadata": {},
   "source": [
    "# List"
   ]
  },
  {
   "cell_type": "code",
   "execution_count": 33,
   "metadata": {},
   "outputs": [
    {
     "name": "stdout",
     "output_type": "stream",
     "text": [
      "[1, 2, 4, 'Islam']\n",
      "1\n",
      "4\n",
      "[1, 2, 4, 5]\n",
      "[1, 2, 4, 5, 10]\n",
      "[1, 2, 3, 4, 5, 10]\n",
      "[1, 2, 3, 4, 5, 10, 7, 8, 9]\n"
     ]
    }
   ],
   "source": [
    "# Create a list\n",
    "nums = [1,2,4,\"Islam\"]\n",
    "\n",
    "print(nums)\n",
    "\n",
    "# Slicing\n",
    "print(nums[0])\n",
    "print(nums [2])\n",
    "\n",
    "# Modification\n",
    "nums[3] = 5\n",
    "print(nums)\n",
    "\n",
    "# Add new items\n",
    "nums.append(10)\n",
    "print(nums)\n",
    "\n",
    "nums.insert(2,3)\n",
    "print(nums)\n",
    "\n",
    "tmp = [7,8,9]\n",
    "# nums.append(tmp) [1, 2, 3, 4, 5, 10, [7, 8, 9]]\n",
    "nums.extend(tmp)\n",
    "print(nums)"
   ]
  },
  {
   "cell_type": "code",
   "execution_count": 49,
   "metadata": {},
   "outputs": [
    {
     "name": "stdout",
     "output_type": "stream",
     "text": [
      "[1, 2, 3, 4, 5, 10, 7, 8]\n",
      "[1, 2, 4, 5, 10, 7, 8]\n",
      "[1, 2, 4, 5, 7, 8]\n",
      "['Ahmed', 'Dina', 'Hany']\n",
      "[2, 3, 23, 34, 35, 56, 67, 67]\n",
      "[67, 67, 56, 35, 34, 23, 3, 2]\n",
      "4\n",
      "[]\n"
     ]
    }
   ],
   "source": [
    "nums = [1, 2, 3, 4, 5, 10, 7, 8, 9]\n",
    "\n",
    "# Remove items\n",
    "nums.pop()\n",
    "print(nums)\n",
    "\n",
    "nums.pop(2)\n",
    "print(nums)\n",
    "\n",
    "nums.remove(10)\n",
    "print(nums)\n",
    "\n",
    "# Sorting\n",
    "names = [\"Hany\", \"Dina\" , \"Ahmed\"]\n",
    "names.sort()\n",
    "print(names)\n",
    "\n",
    "numbers = [35,67,2,23,56,67,34,3]\n",
    "numbers.sort()\n",
    "print(numbers)\n",
    "\n",
    "numbers = [35,67,2,23,56,67,34,3]\n",
    "numbers.sort(reverse=True)\n",
    "print(numbers)\n",
    "\n",
    "print(numbers.index(34))\n",
    "\n",
    "# clear the whole list\n",
    "numbers.clear()\n",
    "print(numbers)\n",
    "\n"
   ]
  },
  {
   "cell_type": "code",
   "execution_count": null,
   "metadata": {},
   "outputs": [],
   "source": []
  }
 ],
 "metadata": {
  "kernelspec": {
   "display_name": "base",
   "language": "python",
   "name": "python3"
  },
  "language_info": {
   "codemirror_mode": {
    "name": "ipython",
    "version": 3
   },
   "file_extension": ".py",
   "mimetype": "text/x-python",
   "name": "python",
   "nbconvert_exporter": "python",
   "pygments_lexer": "ipython3",
   "version": "3.12.3"
  }
 },
 "nbformat": 4,
 "nbformat_minor": 2
}
