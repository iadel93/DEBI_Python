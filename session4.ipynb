{
 "cells": [
  {
   "cell_type": "markdown",
   "metadata": {},
   "source": [
    "Try to identify the count of vowels in a word\n",
    "https://edabit.com/challenge/p88k8yHRPTMPt4bBo"
   ]
  },
  {
   "cell_type": "code",
   "execution_count": 1,
   "metadata": {},
   "outputs": [
    {
     "name": "stdout",
     "output_type": "stream",
     "text": [
      "2\n"
     ]
    }
   ],
   "source": [
    "loc=input(\"Enter word!\")\n",
    "count =0\n",
    "for i in loc:\n",
    "    if(i=='a' or i=='e' or i=='i'or i=='o' or i=='u'):\n",
    "      count +=1\n",
    "print(count)"
   ]
  },
  {
   "cell_type": "code",
   "execution_count": 4,
   "metadata": {},
   "outputs": [
    {
     "name": "stdout",
     "output_type": "stream",
     "text": [
      "4\n"
     ]
    }
   ],
   "source": [
    "word = input(\"Enter a word\")\n",
    "vowels = \"aeiouAEIOU\"\n",
    "count = 0\n",
    "for c in word:\n",
    "    if c in vowels:\n",
    "        count +=1 \n",
    "print(count)"
   ]
  },
  {
   "cell_type": "markdown",
   "metadata": {},
   "source": [
    "Identify items with Odd count of occurance:https://edabit.com/challenge/9TcXrWEGH3DaCgPBs"
   ]
  },
  {
   "cell_type": "code",
   "execution_count": 4,
   "metadata": {},
   "outputs": [
    {
     "name": "stdout",
     "output_type": "stream",
     "text": [
      "-1\n",
      "-1\n"
     ]
    }
   ],
   "source": [
    "tmp = [1, 1, 2, -2, 5, 2, 4, 4, -1, -2, 5]\n",
    "for i in tmp:\n",
    "    if tmp.count(i) % 2 !=0 :\n",
    "        print(i)\n",
    "\n",
    "# Another solution\n",
    "\n",
    "data = {}\n",
    "for i in tmp:\n",
    "    if i in data:\n",
    "        data[i] += 1\n",
    "    else:\n",
    "        data[i] = 1\n",
    "\n",
    "# print(data)\n",
    "for i in tmp:\n",
    "    if data[i] %2 != 0:\n",
    "        print(i)\n",
    "\n"
   ]
  },
  {
   "cell_type": "code",
   "execution_count": 5,
   "metadata": {},
   "outputs": [
    {
     "name": "stdout",
     "output_type": "stream",
     "text": [
      "4\n"
     ]
    }
   ],
   "source": [
    "word = input(\"Enter a word\")\n",
    "vowels = \"aeiou\"\n",
    "count = 0\n",
    "for c in word:\n",
    "    if c.lower() in vowels:\n",
    "        count +=1 \n",
    "print(count)"
   ]
  },
  {
   "cell_type": "markdown",
   "metadata": {},
   "source": [
    "# While Loop"
   ]
  },
  {
   "cell_type": "code",
   "execution_count": 5,
   "metadata": {},
   "outputs": [
    {
     "name": "stdout",
     "output_type": "stream",
     "text": [
      "7\n",
      "6\n",
      "5\n",
      "4\n",
      "3\n",
      "2\n",
      "1\n"
     ]
    }
   ],
   "source": [
    "# Syntax\n",
    "# while (condition):\n",
    "#    Statement\n",
    "# as long as the condition is True we keep iterating in the loop\n",
    "# Note: we must make the condition False somehow inside the loop or break after a while\n",
    "\n",
    "# x = 7\n",
    "# while x > 0:\n",
    "#     print(x)  # Infinite loop\n",
    "\n",
    "x = 7\n",
    "while x>0:\n",
    "    print(x)\n",
    "    x = x -1\n",
    "\n",
    "\n",
    "    "
   ]
  },
  {
   "cell_type": "code",
   "execution_count": null,
   "metadata": {},
   "outputs": [
    {
     "name": "stdout",
     "output_type": "stream",
     "text": [
      "5\n",
      "10\n",
      "15\n",
      "20\n",
      "25\n",
      "30\n",
      "35\n",
      "40\n",
      "45\n",
      "50\n"
     ]
    }
   ],
   "source": [
    "i = 1\n",
    "while i < 11:\n",
    "    print(i*5)\n",
    "    i+=1  # i = i +1"
   ]
  },
  {
   "cell_type": "markdown",
   "metadata": {},
   "source": [
    "filter out strings from integers in a list https://edabit.com/challenge/EfEpbcGjXQYDFcdxF"
   ]
  },
  {
   "cell_type": "code",
   "execution_count": 13,
   "metadata": {},
   "outputs": [
    {
     "name": "stdout",
     "output_type": "stream",
     "text": [
      "[1, 3, 6, 45, 6]\n"
     ]
    }
   ],
   "source": [
    "data = [\"Hello\",1,3,6,\"Islam\",45,6]\n",
    "idx = 0\n",
    "new_list = []\n",
    "while idx < len(data):\n",
    "    # print(data[idx])\n",
    "    if type(data[idx]) == int:\n",
    "        new_list.append(data[idx])\n",
    "    idx += 1\n",
    "\n",
    "print(new_list)\n"
   ]
  },
  {
   "cell_type": "markdown",
   "metadata": {},
   "source": [
    "# else with a while loop"
   ]
  },
  {
   "cell_type": "code",
   "execution_count": 31,
   "metadata": {},
   "outputs": [
    {
     "name": "stdout",
     "output_type": "stream",
     "text": [
      "5\n",
      "4\n",
      "3\n",
      "2\n",
      "1\n",
      "0\n"
     ]
    }
   ],
   "source": [
    "x = 5\n",
    "while x > 0:\n",
    "    print(x)\n",
    "    x-=1\n",
    "else:\n",
    "    print(x)\n"
   ]
  },
  {
   "cell_type": "markdown",
   "metadata": {},
   "source": [
    "Hamming Distance;https://edabit.com/challenge/nfWirHJzNRBMAp9Df"
   ]
  },
  {
   "cell_type": "code",
   "execution_count": 34,
   "metadata": {},
   "outputs": [
    {
     "name": "stdout",
     "output_type": "stream",
     "text": [
      "Hamming Distance : 6\n"
     ]
    }
   ],
   "source": [
    "s1 = \"abcdef\"\n",
    "s2 = \"zcxvbn\"\n",
    "hd = 0\n",
    "for i in range(len(s1)):\n",
    "    if s1[i] != s2[i]:\n",
    "        hd+=1\n",
    "\n",
    "print(\"Hamming Distance :\",hd)"
   ]
  },
  {
   "cell_type": "markdown",
   "metadata": {},
   "source": [
    "# Functions"
   ]
  },
  {
   "cell_type": "code",
   "execution_count": 8,
   "metadata": {},
   "outputs": [
    {
     "name": "stdout",
     "output_type": "stream",
     "text": [
      "Hello!!\n",
      "Hello!!\n",
      "Hello!!\n"
     ]
    }
   ],
   "source": [
    "# Syntax\n",
    "# def function_Name():\n",
    "#     Statements of Code\n",
    "\n",
    "#function definition\n",
    "def say_hello():\n",
    "    print(\"Hello!!\")\n",
    "\n",
    "# function call\n",
    "say_hello()\n",
    "say_hello()\n",
    "say_hello()"
   ]
  },
  {
   "cell_type": "code",
   "execution_count": 37,
   "metadata": {},
   "outputs": [
    {
     "name": "stdout",
     "output_type": "stream",
     "text": [
      "Hello,  Islam\n",
      "Hello,  Omar\n",
      "Hello,  123\n",
      "Hello,  [2, 3, 4]\n"
     ]
    }
   ],
   "source": [
    "# Syntax\n",
    "# def function_Name(Argument):\n",
    "#     Statements of Code\n",
    "\n",
    "def say_hello(name):\n",
    "    print(\"Hello, \",name)\n",
    "\n",
    "say_hello(\"Islam\")\n",
    "say_hello(\"Omar\")\n",
    "say_hello(123)\n",
    "say_hello([2,3,4])"
   ]
  },
  {
   "cell_type": "code",
   "execution_count": 38,
   "metadata": {},
   "outputs": [
    {
     "name": "stdout",
     "output_type": "stream",
     "text": [
      "9\n",
      "15\n"
     ]
    }
   ],
   "source": [
    "def add(x,y):\n",
    "    print(x+y)\n",
    "    \n",
    "add(4,5)\n",
    "add(7,8)"
   ]
  },
  {
   "cell_type": "markdown",
   "metadata": {},
   "source": [
    "Function Return"
   ]
  },
  {
   "cell_type": "code",
   "execution_count": 41,
   "metadata": {},
   "outputs": [
    {
     "name": "stdout",
     "output_type": "stream",
     "text": [
      "7\n"
     ]
    }
   ],
   "source": [
    "def add(x,y):\n",
    "    return x+y\n",
    "\n",
    "tmp = add(3,4)\n",
    "print(tmp)"
   ]
  },
  {
   "cell_type": "code",
   "execution_count": 13,
   "metadata": {},
   "outputs": [
    {
     "name": "stdout",
     "output_type": "stream",
     "text": [
      "5\n"
     ]
    }
   ],
   "source": [
    "res = add(3,add(1,1))\n",
    "print(res)"
   ]
  },
  {
   "cell_type": "markdown",
   "metadata": {},
   "source": [
    "get greetings https://edabit.com/challenge/SKorutJdWGBzXJDRt"
   ]
  },
  {
   "cell_type": "code",
   "execution_count": 31,
   "metadata": {},
   "outputs": [
    {
     "data": {
      "text/plain": [
       "'Hello Islam,Hello Ahmed'"
      ]
     },
     "execution_count": 31,
     "metadata": {},
     "output_type": "execute_result"
    }
   ],
   "source": [
    "def greetings(names):\n",
    "    temp = \"\"\n",
    "    for name in names:\n",
    "        temp += \"Hello \"+name+\",\"\n",
    "    temp = temp.strip(\",\")\n",
    "    return temp\n",
    "\n",
    "greetings([\"Islam\",\"Ahmed\"])"
   ]
  },
  {
   "cell_type": "markdown",
   "metadata": {},
   "source": [
    "Get the integers out of a list : https://edabit.com/challenge/DG2HLRqxFXxbaEDX4"
   ]
  },
  {
   "cell_type": "code",
   "execution_count": 14,
   "metadata": {},
   "outputs": [
    {
     "name": "stdout",
     "output_type": "stream",
     "text": [
      "[1, 2, 3]\n"
     ]
    }
   ],
   "source": [
    "def get_integers(lst):\n",
    "    nums = []\n",
    "    for i in lst:\n",
    "        if type(i) == int:\n",
    "            nums.append(i)\n",
    "\n",
    "    return nums\n",
    "\n",
    "print(get_integers([1,2,\"Hello\",\"World\",3]))"
   ]
  },
  {
   "cell_type": "markdown",
   "metadata": {},
   "source": [
    "Deduplication of a list :https://edabit.com/challenge/hFNhDGNt8CNjSNnG9"
   ]
  },
  {
   "cell_type": "code",
   "execution_count": 42,
   "metadata": {},
   "outputs": [
    {
     "data": {
      "text/plain": [
       "[4, 5, 1, 3]"
      ]
     },
     "execution_count": 42,
     "metadata": {},
     "output_type": "execute_result"
    }
   ],
   "source": [
    "def dedupe(nums):\n",
    "    i = 0\n",
    "    while i < len(nums):\n",
    "        if nums[i] in nums[:i]:\n",
    "            nums.remove(nums[i])\n",
    "        else:\n",
    "            i +=1\n",
    "    return nums\n",
    "\n",
    "print(dedupe([3,3,4,4,5,1,3]))"
   ]
  },
  {
   "cell_type": "code",
   "execution_count": 44,
   "metadata": {},
   "outputs": [
    {
     "name": "stdout",
     "output_type": "stream",
     "text": [
      "[3, 4, 5, 1]\n"
     ]
    }
   ],
   "source": [
    "def dedupe(nums):\n",
    "    tmp = []\n",
    "    for i in nums:\n",
    "        if i in tmp:\n",
    "            pass\n",
    "        else:\n",
    "            tmp.append(i)\n",
    "\n",
    "    return tmp\n",
    "\n",
    "print(dedupe([3,3,4,4,5,1,3]))"
   ]
  },
  {
   "cell_type": "code",
   "execution_count": 49,
   "metadata": {},
   "outputs": [
    {
     "name": "stdout",
     "output_type": "stream",
     "text": [
      "[1, 3, 4, 5]\n"
     ]
    }
   ],
   "source": [
    "def dedupe(nums):\n",
    "    return list(set(nums))\n",
    "\n",
    "print(dedupe([3,3,4,4,5,1,3]))\n"
   ]
  },
  {
   "cell_type": "markdown",
   "metadata": {},
   "source": [
    "Unpacking"
   ]
  },
  {
   "cell_type": "code",
   "execution_count": 2,
   "metadata": {},
   "outputs": [
    {
     "name": "stdout",
     "output_type": "stream",
     "text": [
      "(13, -1)\n",
      "13\n",
      "-1\n"
     ]
    }
   ],
   "source": [
    "def calc(x,y):\n",
    "    return x+y,x-y\n",
    "\n",
    "res = calc(6,7)\n",
    "print(res)\n",
    "print(res[0])\n",
    "print(res[1])\n"
   ]
  },
  {
   "cell_type": "code",
   "execution_count": 5,
   "metadata": {},
   "outputs": [
    {
     "name": "stdout",
     "output_type": "stream",
     "text": [
      "13\n",
      "-1\n"
     ]
    }
   ],
   "source": [
    "def calc(x,y):\n",
    "    return x+y,x-y\n",
    "\n",
    "addition , subtract = calc(6,7)\n",
    "print(addition)\n",
    "print(subtract)"
   ]
  },
  {
   "cell_type": "markdown",
   "metadata": {},
   "source": [
    "# Args"
   ]
  },
  {
   "cell_type": "code",
   "execution_count": 16,
   "metadata": {},
   "outputs": [
    {
     "name": "stdout",
     "output_type": "stream",
     "text": [
      "9\n"
     ]
    },
    {
     "ename": "TypeError",
     "evalue": "calc() missing 1 required positional argument: 'y'",
     "output_type": "error",
     "traceback": [
      "\u001b[1;31m---------------------------------------------------------------------------\u001b[0m",
      "\u001b[1;31mTypeError\u001b[0m                                 Traceback (most recent call last)",
      "Cell \u001b[1;32mIn[16], line 5\u001b[0m\n\u001b[0;32m      2\u001b[0m     \u001b[38;5;28;01mreturn\u001b[39;00m x\u001b[38;5;241m+\u001b[39my\n\u001b[0;32m      4\u001b[0m \u001b[38;5;28mprint\u001b[39m(calc(\u001b[38;5;241m4\u001b[39m,\u001b[38;5;241m5\u001b[39m))\n\u001b[1;32m----> 5\u001b[0m \u001b[38;5;28mprint\u001b[39m(\u001b[43mcalc\u001b[49m\u001b[43m(\u001b[49m\u001b[38;5;241;43m4\u001b[39;49m\u001b[43m)\u001b[49m)\n",
      "\u001b[1;31mTypeError\u001b[0m: calc() missing 1 required positional argument: 'y'"
     ]
    }
   ],
   "source": [
    "def calc(x,y): # required positional argument\n",
    "    return x+y\n",
    "\n",
    "print(calc(4,5))\n",
    "print(calc(4))"
   ]
  },
  {
   "cell_type": "code",
   "execution_count": 37,
   "metadata": {},
   "outputs": [
    {
     "name": "stdout",
     "output_type": "stream",
     "text": [
      "9\n",
      "4\n"
     ]
    }
   ],
   "source": [
    "def calc(x,y=0): # Default Argument\n",
    "    return x+y\n",
    "\n",
    "print(calc(4,5))\n",
    "print(calc(4))"
   ]
  },
  {
   "cell_type": "code",
   "execution_count": null,
   "metadata": {},
   "outputs": [
    {
     "name": "stdout",
     "output_type": "stream",
     "text": [
      "[12, 3]\n",
      "[3]\n"
     ]
    }
   ],
   "source": [
    "tmp  = [12,3,4]\n",
    "tmp.pop()\n",
    "print(tmp)\n",
    "tmp.pop(0)\n",
    "print(tmp)\n"
   ]
  },
  {
   "cell_type": "markdown",
   "metadata": {},
   "source": [
    "Variable length argument"
   ]
  },
  {
   "cell_type": "code",
   "execution_count": 42,
   "metadata": {},
   "outputs": [
    {
     "name": "stdout",
     "output_type": "stream",
     "text": [
      "Hello\n",
      "Hello World\n",
      "Hello World Ahmed\n"
     ]
    }
   ],
   "source": [
    "print(\"Hello\")\n",
    "print(\"Hello\",\"World\")\n",
    "print(\"Hello\",\"World\",\"Ahmed\")"
   ]
  },
  {
   "cell_type": "code",
   "execution_count": 44,
   "metadata": {},
   "outputs": [
    {
     "ename": "TypeError",
     "evalue": "add() takes 2 positional arguments but 3 were given",
     "output_type": "error",
     "traceback": [
      "\u001b[1;31m---------------------------------------------------------------------------\u001b[0m",
      "\u001b[1;31mTypeError\u001b[0m                                 Traceback (most recent call last)",
      "Cell \u001b[1;32mIn[44], line 4\u001b[0m\n\u001b[0;32m      1\u001b[0m \u001b[38;5;28;01mdef\u001b[39;00m \u001b[38;5;21madd\u001b[39m(x,y):\n\u001b[0;32m      2\u001b[0m     \u001b[38;5;28;01mreturn\u001b[39;00m x\u001b[38;5;241m+\u001b[39my\n\u001b[1;32m----> 4\u001b[0m \u001b[38;5;28mprint\u001b[39m(\u001b[43madd\u001b[49m\u001b[43m(\u001b[49m\u001b[38;5;241;43m3\u001b[39;49m\u001b[43m,\u001b[49m\u001b[38;5;241;43m4\u001b[39;49m\u001b[43m,\u001b[49m\u001b[38;5;241;43m5\u001b[39;49m\u001b[43m)\u001b[49m)\n",
      "\u001b[1;31mTypeError\u001b[0m: add() takes 2 positional arguments but 3 were given"
     ]
    }
   ],
   "source": [
    "def add(x,y):\n",
    "    return x+y\n",
    "\n",
    "print(add(3,4,5))"
   ]
  },
  {
   "cell_type": "code",
   "execution_count": 17,
   "metadata": {},
   "outputs": [
    {
     "name": "stdout",
     "output_type": "stream",
     "text": [
      "(1, 2, 3, 4, 6, 7)\n"
     ]
    }
   ],
   "source": [
    "def add(*nums): # variable length argument\n",
    "    print(nums)\n",
    "\n",
    "add(1,2,3,4,6,7)"
   ]
  },
  {
   "cell_type": "code",
   "execution_count": 6,
   "metadata": {},
   "outputs": [
    {
     "data": {
      "text/plain": [
       "52"
      ]
     },
     "execution_count": 6,
     "metadata": {},
     "output_type": "execute_result"
    }
   ],
   "source": [
    "def add(*nums):\n",
    "    s = 0\n",
    "    for i in nums:\n",
    "        s+=i\n",
    "    return s\n",
    "\n",
    "add(3,4,6,7,8,4,2,5,6,7)"
   ]
  },
  {
   "cell_type": "markdown",
   "metadata": {},
   "source": [
    "KeyWord Arguments"
   ]
  },
  {
   "cell_type": "code",
   "execution_count": 19,
   "metadata": {},
   "outputs": [
    {
     "name": "stdout",
     "output_type": "stream",
     "text": [
      "{'x': 4, 'y': 5, 'z': 6}\n"
     ]
    }
   ],
   "source": [
    "def func(**data):    # Keyword Argument\n",
    "    print(data)\n",
    "\n",
    "func(x=4,y=5,z=6)"
   ]
  },
  {
   "cell_type": "code",
   "execution_count": 8,
   "metadata": {},
   "outputs": [
    {
     "name": "stdout",
     "output_type": "stream",
     "text": [
      "1 3 4 (12, 43, 23) {'s': 46}\n"
     ]
    }
   ],
   "source": [
    "# Q : In what order should each type of arguments exist in a function\n",
    "#  required_positional  -> defaults  ->  variable_lenght -> KeywordArguments\n",
    "\n",
    "def func(x,y,z=7,*var,**kw):\n",
    "    print(x,y,z,var,kw)\n",
    "\n",
    "func(1,3,4,12,43,23,s=46)"
   ]
  },
  {
   "cell_type": "markdown",
   "metadata": {},
   "source": [
    "create a function to separate a number of integres to two lists\n",
    "even and odd integers"
   ]
  },
  {
   "cell_type": "code",
   "execution_count": 50,
   "metadata": {},
   "outputs": [
    {
     "name": "stdout",
     "output_type": "stream",
     "text": [
      "([54, 2, 78, 12, 46, 6], [21, 57, 45, 23])\n"
     ]
    }
   ],
   "source": [
    "def split_numbers(nums):\n",
    "    evens = []\n",
    "    odds = []\n",
    "    for i in nums:\n",
    "        if i%2 == 0:\n",
    "            evens.append(i)\n",
    "        else:\n",
    "            odds.append(i)\n",
    "\n",
    "    return evens , odds\n",
    "\n",
    "\n",
    "print(split_numbers([21,54,2,57,78,45,23,12,46,6]))"
   ]
  },
  {
   "cell_type": "markdown",
   "metadata": {},
   "source": [
    "Define if strictly increasing / decreasing : https://edabit.com/challenge/hZi6AhWEzGASB7tWR"
   ]
  },
  {
   "cell_type": "code",
   "execution_count": 28,
   "metadata": {},
   "outputs": [
    {
     "name": "stdout",
     "output_type": "stream",
     "text": [
      "increasing\n",
      "increasing\n",
      "decreasing\n",
      "neither\n"
     ]
    }
   ],
   "source": [
    "def check_list(lst):\n",
    "    status = None\n",
    "    if lst[0] > lst[1]:\n",
    "        status = \"decreasing\"\n",
    "    elif lst[0] < lst[1]:\n",
    "        status = \"increasing\"\n",
    "    else:\n",
    "        return \"neither\"\n",
    "    \n",
    "    for i in range(1,len(lst)-1):\n",
    "        if lst[i] > lst[i+1] and status == \"increasing\":\n",
    "            status = \"neither\"\n",
    "            break\n",
    "        elif lst[i] < lst[i+1] and status == \"decreasing\":\n",
    "            status = \"neither\"\n",
    "            break\n",
    "    return status\n",
    "\n",
    "print(check_list([1,2,3]))\n",
    "print(check_list([1,2,3,4,5]))\n",
    "print(check_list([4,3,2,1]))\n",
    "print(check_list([1,2,3,1,2]))\n"
   ]
  },
  {
   "cell_type": "code",
   "execution_count": 29,
   "metadata": {},
   "outputs": [
    {
     "name": "stdout",
     "output_type": "stream",
     "text": [
      "strictly increasing\n",
      "strictly increasing\n",
      "strictly decreasing\n",
      "neither\n"
     ]
    }
   ],
   "source": [
    "def check_list(lst):\n",
    "    if len(lst) < 2:\n",
    "        return \"neither\"  \n",
    "    \n",
    "    is_increasing = True\n",
    "    is_decreasing = True\n",
    "    \n",
    "    for i in range(len(lst) - 1):\n",
    "        if lst[i] >= lst[i + 1]:  \n",
    "            is_increasing = False\n",
    "        if lst[i] <= lst[i + 1]:  \n",
    "            is_decreasing = False\n",
    "    \n",
    "    if is_increasing:\n",
    "        return \"strictly increasing\"\n",
    "    elif is_decreasing:\n",
    "        return \"strictly decreasing\"\n",
    "    else:\n",
    "        return \"neither\"\n",
    "    \n",
    "print(check_list([1,2,3]))\n",
    "print(check_list([1,2,3,4,5]))\n",
    "print(check_list([4,3,2,1]))\n",
    "print(check_list([1,2,3,1,2]))\n"
   ]
  },
  {
   "cell_type": "code",
   "execution_count": null,
   "metadata": {},
   "outputs": [],
   "source": []
  }
 ],
 "metadata": {
  "kernelspec": {
   "display_name": "base",
   "language": "python",
   "name": "python3"
  },
  "language_info": {
   "codemirror_mode": {
    "name": "ipython",
    "version": 3
   },
   "file_extension": ".py",
   "mimetype": "text/x-python",
   "name": "python",
   "nbconvert_exporter": "python",
   "pygments_lexer": "ipython3",
   "version": "3.12.3"
  }
 },
 "nbformat": 4,
 "nbformat_minor": 2
}
