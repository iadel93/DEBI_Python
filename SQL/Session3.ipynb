{
 "cells": [
  {
   "cell_type": "code",
   "execution_count": 2,
   "metadata": {},
   "outputs": [
    {
     "name": "stdout",
     "output_type": "stream",
     "text": [
      "Successfully connected to the database\n"
     ]
    }
   ],
   "source": [
    "import mysql.connector\n",
    "\n",
    "# Replace with your own database credentials\n",
    "config = {\n",
    "    'user': 'root',\n",
    "    'password': 'root',\n",
    "    'host': 'localhost',\n",
    "    'database': 'debi'\n",
    "}\n",
    "\n",
    "# Establish a connection to the database\n",
    "try:\n",
    "    connection = mysql.connector.connect(**config)\n",
    "    if connection.is_connected():\n",
    "        print(\"Successfully connected to the database\")\n",
    "except mysql.connector.Error as err:\n",
    "    print(f\"Error: {err}\")\n"
   ]
  },
  {
   "cell_type": "code",
   "execution_count": 4,
   "metadata": {},
   "outputs": [
    {
     "name": "stdout",
     "output_type": "stream",
     "text": [
      "('customer',)\n",
      "('data',)\n",
      "('datetime_practice',)\n",
      "('employee',)\n",
      "('first_five',)\n",
      "('info',)\n",
      "('mobile',)\n",
      "('mobile_data',)\n",
      "('salaries',)\n",
      "('salaries_names',)\n",
      "('salary',)\n"
     ]
    }
   ],
   "source": [
    "cursor = connection.cursor()\n",
    "cursor.execute(\"SHOW TABLES\")\n",
    "for d in cursor:\n",
    "\tprint(d)"
   ]
  },
  {
   "cell_type": "markdown",
   "metadata": {},
   "source": [
    "ORDER BY"
   ]
  },
  {
   "cell_type": "code",
   "execution_count": 3,
   "metadata": {},
   "outputs": [
    {
     "name": "stdout",
     "output_type": "stream",
     "text": [
      "(0, 1, 1043, 1, 1.8, 1, 14, 0, 5, 0.1, 193, 3, 16, 226, 1412, 3476, 12, 7, 2, 0, 1, 0)\n",
      "(1, 2, 841, 1, 0.5, 1, 4, 1, 61, 0.8, 191, 5, 12, 746, 857, 3895, 6, 0, 7, 1, 0, 0)\n",
      "(2, 3, 1807, 1, 2.8, 0, 1, 0, 27, 0.9, 186, 3, 4, 1270, 1366, 2396, 17, 10, 10, 0, 1, 1)\n",
      "(3, 4, 1546, 0, 0.5, 1, 18, 1, 25, 0.5, 96, 8, 20, 295, 1752, 3893, 10, 0, 7, 1, 1, 0)\n",
      "(4, 5, 1434, 0, 1.4, 0, 11, 1, 49, 0.5, 108, 6, 18, 749, 810, 1773, 15, 8, 7, 1, 0, 1)\n"
     ]
    }
   ],
   "source": [
    "cursor.execute(\"SELECT * FROM mobile_data WHERE id<=5\")\n",
    "for d in cursor:\n",
    "    print(d)"
   ]
  },
  {
   "cell_type": "code",
   "execution_count": 4,
   "metadata": {},
   "outputs": [
    {
     "name": "stdout",
     "output_type": "stream",
     "text": [
      "(1, 2, 841, 1, 0.5, 1, 4, 1, 61, 0.8, 191, 5, 12, 746, 857, 3895, 6, 0, 7, 1, 0, 0)\n",
      "(0, 1, 1043, 1, 1.8, 1, 14, 0, 5, 0.1, 193, 3, 16, 226, 1412, 3476, 12, 7, 2, 0, 1, 0)\n",
      "(4, 5, 1434, 0, 1.4, 0, 11, 1, 49, 0.5, 108, 6, 18, 749, 810, 1773, 15, 8, 7, 1, 0, 1)\n",
      "(3, 4, 1546, 0, 0.5, 1, 18, 1, 25, 0.5, 96, 8, 20, 295, 1752, 3893, 10, 0, 7, 1, 1, 0)\n",
      "(2, 3, 1807, 1, 2.8, 0, 1, 0, 27, 0.9, 186, 3, 4, 1270, 1366, 2396, 17, 10, 10, 0, 1, 1)\n"
     ]
    }
   ],
   "source": [
    "cursor.execute(\"SELECT * FROM mobile_data WHERE id<=5 ORDER BY battery_power ASC\")\n",
    "for d in cursor:\n",
    "    print(d)"
   ]
  },
  {
   "cell_type": "code",
   "execution_count": 21,
   "metadata": {},
   "outputs": [
    {
     "name": "stdout",
     "output_type": "stream",
     "text": [
      "(1, 2, 841, 1, 0.5, 1, 4, 1, 61, 0.8, 191, 5, 12, 746, 857, 3895, 6, 0, 7, 1, 0, 0)\n",
      "(0, 1, 1043, 1, 1.8, 1, 14, 0, 5, 0.1, 193, 3, 16, 226, 1412, 3476, 12, 7, 2, 0, 1, 0)\n",
      "(4, 5, 1434, 0, 1.4, 0, 11, 1, 49, 0.5, 108, 6, 18, 749, 810, 1773, 15, 8, 7, 1, 0, 1)\n",
      "(3, 4, 1546, 0, 0.5, 1, 18, 1, 25, 0.5, 96, 8, 20, 295, 1752, 3893, 10, 0, 7, 1, 1, 0)\n",
      "(2, 3, 1807, 1, 2.8, 0, 1, 0, 27, 0.9, 186, 3, 4, 1270, 1366, 2396, 17, 10, 10, 0, 1, 1)\n"
     ]
    }
   ],
   "source": [
    "cursor.execute(\"SELECT * FROM mobile_data WHERE id<=5 ORDER BY battery_power ASC , clock_speed DESC\")\n",
    "for d in cursor:\n",
    "    print(d)"
   ]
  },
  {
   "cell_type": "code",
   "execution_count": 7,
   "metadata": {},
   "outputs": [
    {
     "name": "stdout",
     "output_type": "stream",
     "text": [
      "Tables created successfully\n"
     ]
    }
   ],
   "source": [
    "# Create the first table\n",
    "cursor.execute(\"\"\"\n",
    "CREATE TABLE IF NOT EXISTS info (\n",
    "    id INT PRIMARY KEY,\n",
    "    name VARCHAR(255),\n",
    "    age INT\n",
    ")\n",
    "\"\"\")\n",
    "\n",
    "# Create the second table\n",
    "cursor.execute(\"\"\"\n",
    "CREATE TABLE IF NOT EXISTS salaries (\n",
    "    id INT PRIMARY KEY,\n",
    "    name VARCHAR(255),\n",
    "    salary INT\n",
    ")\n",
    "\"\"\")\n",
    "\n",
    "# Commit the changes\n",
    "connection.commit()\n",
    "\n",
    "print(\"Tables created successfully\")"
   ]
  },
  {
   "cell_type": "code",
   "execution_count": 8,
   "metadata": {},
   "outputs": [
    {
     "ename": "IntegrityError",
     "evalue": "1062 (23000): Duplicate entry '1' for key 'info.PRIMARY'",
     "output_type": "error",
     "traceback": [
      "\u001b[1;31m---------------------------------------------------------------------------\u001b[0m",
      "\u001b[1;31mMySQLInterfaceError\u001b[0m                       Traceback (most recent call last)",
      "File \u001b[1;32mc:\\Users\\engsm\\miniconda3\\Lib\\site-packages\\mysql\\connector\\connection_cext.py:706\u001b[0m, in \u001b[0;36mCMySQLConnection.cmd_query\u001b[1;34m(self, query, raw, buffered, raw_as_string)\u001b[0m\n\u001b[0;32m    705\u001b[0m         query \u001b[38;5;241m=\u001b[39m query\u001b[38;5;241m.\u001b[39mencode(\u001b[38;5;124m\"\u001b[39m\u001b[38;5;124mutf-8\u001b[39m\u001b[38;5;124m\"\u001b[39m)\n\u001b[1;32m--> 706\u001b[0m     \u001b[38;5;28;43mself\u001b[39;49m\u001b[38;5;241;43m.\u001b[39;49m\u001b[43m_cmysql\u001b[49m\u001b[38;5;241;43m.\u001b[39;49m\u001b[43mquery\u001b[49m\u001b[43m(\u001b[49m\n\u001b[0;32m    707\u001b[0m \u001b[43m        \u001b[49m\u001b[43mquery\u001b[49m\u001b[43m,\u001b[49m\n\u001b[0;32m    708\u001b[0m \u001b[43m        \u001b[49m\u001b[43mraw\u001b[49m\u001b[38;5;241;43m=\u001b[39;49m\u001b[43mraw\u001b[49m\u001b[43m,\u001b[49m\n\u001b[0;32m    709\u001b[0m \u001b[43m        \u001b[49m\u001b[43mbuffered\u001b[49m\u001b[38;5;241;43m=\u001b[39;49m\u001b[43mbuffered\u001b[49m\u001b[43m,\u001b[49m\n\u001b[0;32m    710\u001b[0m \u001b[43m        \u001b[49m\u001b[43mraw_as_string\u001b[49m\u001b[38;5;241;43m=\u001b[39;49m\u001b[43mraw_as_string\u001b[49m\u001b[43m,\u001b[49m\n\u001b[0;32m    711\u001b[0m \u001b[43m        \u001b[49m\u001b[43mquery_attrs\u001b[49m\u001b[38;5;241;43m=\u001b[39;49m\u001b[38;5;28;43mself\u001b[39;49m\u001b[38;5;241;43m.\u001b[39;49m\u001b[43mquery_attrs\u001b[49m\u001b[43m,\u001b[49m\n\u001b[0;32m    712\u001b[0m \u001b[43m    \u001b[49m\u001b[43m)\u001b[49m\n\u001b[0;32m    713\u001b[0m \u001b[38;5;28;01mexcept\u001b[39;00m MySQLInterfaceError \u001b[38;5;28;01mas\u001b[39;00m err:\n",
      "\u001b[1;31mMySQLInterfaceError\u001b[0m: Duplicate entry '1' for key 'info.PRIMARY'",
      "\nThe above exception was the direct cause of the following exception:\n",
      "\u001b[1;31mIntegrityError\u001b[0m                            Traceback (most recent call last)",
      "Cell \u001b[1;32mIn[8], line 2\u001b[0m\n\u001b[0;32m      1\u001b[0m \u001b[38;5;66;03m# Insert data into the info table\u001b[39;00m\n\u001b[1;32m----> 2\u001b[0m \u001b[43mcursor\u001b[49m\u001b[38;5;241;43m.\u001b[39;49m\u001b[43mexecute\u001b[49m\u001b[43m(\u001b[49m\u001b[38;5;124;43m\"\"\"\u001b[39;49m\n\u001b[0;32m      3\u001b[0m \u001b[38;5;124;43mINSERT INTO info (id, name, age) VALUES\u001b[39;49m\n\u001b[0;32m      4\u001b[0m \u001b[38;5;124;43m(1, \u001b[39;49m\u001b[38;5;124;43m'\u001b[39;49m\u001b[38;5;124;43mAlice\u001b[39;49m\u001b[38;5;124;43m'\u001b[39;49m\u001b[38;5;124;43m, 25),\u001b[39;49m\n\u001b[0;32m      5\u001b[0m \u001b[38;5;124;43m(2, \u001b[39;49m\u001b[38;5;124;43m'\u001b[39;49m\u001b[38;5;124;43mBob\u001b[39;49m\u001b[38;5;124;43m'\u001b[39;49m\u001b[38;5;124;43m, 30),\u001b[39;49m\n\u001b[0;32m      6\u001b[0m \u001b[38;5;124;43m(3, \u001b[39;49m\u001b[38;5;124;43m'\u001b[39;49m\u001b[38;5;124;43mCharlie\u001b[39;49m\u001b[38;5;124;43m'\u001b[39;49m\u001b[38;5;124;43m, 35)\u001b[39;49m\n\u001b[0;32m      7\u001b[0m \u001b[38;5;124;43m\"\"\"\u001b[39;49m\u001b[43m)\u001b[49m\n\u001b[0;32m      9\u001b[0m \u001b[38;5;66;03m# Insert data into the salaries table\u001b[39;00m\n\u001b[0;32m     10\u001b[0m cursor\u001b[38;5;241m.\u001b[39mexecute(\u001b[38;5;124m\"\"\"\u001b[39m\n\u001b[0;32m     11\u001b[0m \u001b[38;5;124mINSERT INTO salaries (id, name, salary) VALUES\u001b[39m\n\u001b[0;32m     12\u001b[0m \u001b[38;5;124m(1, \u001b[39m\u001b[38;5;124m'\u001b[39m\u001b[38;5;124mAlice\u001b[39m\u001b[38;5;124m'\u001b[39m\u001b[38;5;124m, 50000),\u001b[39m\n\u001b[0;32m     13\u001b[0m \u001b[38;5;124m(2, \u001b[39m\u001b[38;5;124m'\u001b[39m\u001b[38;5;124mBob\u001b[39m\u001b[38;5;124m'\u001b[39m\u001b[38;5;124m, 60000),\u001b[39m\n\u001b[0;32m     14\u001b[0m \u001b[38;5;124m(3, \u001b[39m\u001b[38;5;124m'\u001b[39m\u001b[38;5;124mCharlie\u001b[39m\u001b[38;5;124m'\u001b[39m\u001b[38;5;124m, 70000)\u001b[39m\n\u001b[0;32m     15\u001b[0m \u001b[38;5;124m\"\"\"\u001b[39m)\n",
      "File \u001b[1;32mc:\\Users\\engsm\\miniconda3\\Lib\\site-packages\\mysql\\connector\\cursor_cext.py:357\u001b[0m, in \u001b[0;36mCMySQLCursor.execute\u001b[1;34m(self, operation, params, multi)\u001b[0m\n\u001b[0;32m    352\u001b[0m             \u001b[38;5;28;01mraise\u001b[39;00m ProgrammingError(\n\u001b[0;32m    353\u001b[0m                 \u001b[38;5;124m\"\u001b[39m\u001b[38;5;124mNot all parameters were used in the SQL statement\u001b[39m\u001b[38;5;124m\"\u001b[39m\n\u001b[0;32m    354\u001b[0m             )\n\u001b[0;32m    356\u001b[0m \u001b[38;5;28;01mtry\u001b[39;00m:\n\u001b[1;32m--> 357\u001b[0m     result \u001b[38;5;241m=\u001b[39m \u001b[38;5;28;43mself\u001b[39;49m\u001b[38;5;241;43m.\u001b[39;49m\u001b[43m_connection\u001b[49m\u001b[38;5;241;43m.\u001b[39;49m\u001b[43mcmd_query\u001b[49m\u001b[43m(\u001b[49m\n\u001b[0;32m    358\u001b[0m \u001b[43m        \u001b[49m\u001b[43mstmt\u001b[49m\u001b[43m,\u001b[49m\n\u001b[0;32m    359\u001b[0m \u001b[43m        \u001b[49m\u001b[43mraw\u001b[49m\u001b[38;5;241;43m=\u001b[39;49m\u001b[38;5;28;43mself\u001b[39;49m\u001b[38;5;241;43m.\u001b[39;49m\u001b[43m_raw\u001b[49m\u001b[43m,\u001b[49m\n\u001b[0;32m    360\u001b[0m \u001b[43m        \u001b[49m\u001b[43mbuffered\u001b[49m\u001b[38;5;241;43m=\u001b[39;49m\u001b[38;5;28;43mself\u001b[39;49m\u001b[38;5;241;43m.\u001b[39;49m\u001b[43m_buffered\u001b[49m\u001b[43m,\u001b[49m\n\u001b[0;32m    361\u001b[0m \u001b[43m        \u001b[49m\u001b[43mraw_as_string\u001b[49m\u001b[38;5;241;43m=\u001b[39;49m\u001b[38;5;28;43mself\u001b[39;49m\u001b[38;5;241;43m.\u001b[39;49m\u001b[43m_raw_as_string\u001b[49m\u001b[43m,\u001b[49m\n\u001b[0;32m    362\u001b[0m \u001b[43m    \u001b[49m\u001b[43m)\u001b[49m\n\u001b[0;32m    363\u001b[0m \u001b[38;5;28;01mexcept\u001b[39;00m MySQLInterfaceError \u001b[38;5;28;01mas\u001b[39;00m err:\n\u001b[0;32m    364\u001b[0m     \u001b[38;5;28;01mraise\u001b[39;00m get_mysql_exception(\n\u001b[0;32m    365\u001b[0m         msg\u001b[38;5;241m=\u001b[39merr\u001b[38;5;241m.\u001b[39mmsg, errno\u001b[38;5;241m=\u001b[39merr\u001b[38;5;241m.\u001b[39merrno, sqlstate\u001b[38;5;241m=\u001b[39merr\u001b[38;5;241m.\u001b[39msqlstate\n\u001b[0;32m    366\u001b[0m     ) \u001b[38;5;28;01mfrom\u001b[39;00m \u001b[38;5;21;01merr\u001b[39;00m\n",
      "File \u001b[1;32mc:\\Users\\engsm\\miniconda3\\Lib\\site-packages\\mysql\\connector\\opentelemetry\\context_propagation.py:97\u001b[0m, in \u001b[0;36mwith_context_propagation.<locals>.wrapper\u001b[1;34m(cnx, *args, **kwargs)\u001b[0m\n\u001b[0;32m     95\u001b[0m \u001b[38;5;66;03m# pylint: disable=possibly-used-before-assignment\u001b[39;00m\n\u001b[0;32m     96\u001b[0m \u001b[38;5;28;01mif\u001b[39;00m \u001b[38;5;129;01mnot\u001b[39;00m OTEL_ENABLED \u001b[38;5;129;01mor\u001b[39;00m \u001b[38;5;129;01mnot\u001b[39;00m cnx\u001b[38;5;241m.\u001b[39motel_context_propagation:\n\u001b[1;32m---> 97\u001b[0m     \u001b[38;5;28;01mreturn\u001b[39;00m \u001b[43mmethod\u001b[49m\u001b[43m(\u001b[49m\u001b[43mcnx\u001b[49m\u001b[43m,\u001b[49m\u001b[43m \u001b[49m\u001b[38;5;241;43m*\u001b[39;49m\u001b[43margs\u001b[49m\u001b[43m,\u001b[49m\u001b[43m \u001b[49m\u001b[38;5;241;43m*\u001b[39;49m\u001b[38;5;241;43m*\u001b[39;49m\u001b[43mkwargs\u001b[49m\u001b[43m)\u001b[49m\n\u001b[0;32m     99\u001b[0m current_span \u001b[38;5;241m=\u001b[39m trace\u001b[38;5;241m.\u001b[39mget_current_span()\n\u001b[0;32m    100\u001b[0m tp_header \u001b[38;5;241m=\u001b[39m \u001b[38;5;28;01mNone\u001b[39;00m\n",
      "File \u001b[1;32mc:\\Users\\engsm\\miniconda3\\Lib\\site-packages\\mysql\\connector\\connection_cext.py:714\u001b[0m, in \u001b[0;36mCMySQLConnection.cmd_query\u001b[1;34m(self, query, raw, buffered, raw_as_string)\u001b[0m\n\u001b[0;32m    706\u001b[0m     \u001b[38;5;28mself\u001b[39m\u001b[38;5;241m.\u001b[39m_cmysql\u001b[38;5;241m.\u001b[39mquery(\n\u001b[0;32m    707\u001b[0m         query,\n\u001b[0;32m    708\u001b[0m         raw\u001b[38;5;241m=\u001b[39mraw,\n\u001b[1;32m   (...)\u001b[0m\n\u001b[0;32m    711\u001b[0m         query_attrs\u001b[38;5;241m=\u001b[39m\u001b[38;5;28mself\u001b[39m\u001b[38;5;241m.\u001b[39mquery_attrs,\n\u001b[0;32m    712\u001b[0m     )\n\u001b[0;32m    713\u001b[0m \u001b[38;5;28;01mexcept\u001b[39;00m MySQLInterfaceError \u001b[38;5;28;01mas\u001b[39;00m err:\n\u001b[1;32m--> 714\u001b[0m     \u001b[38;5;28;01mraise\u001b[39;00m get_mysql_exception(\n\u001b[0;32m    715\u001b[0m         err\u001b[38;5;241m.\u001b[39merrno, msg\u001b[38;5;241m=\u001b[39merr\u001b[38;5;241m.\u001b[39mmsg, sqlstate\u001b[38;5;241m=\u001b[39merr\u001b[38;5;241m.\u001b[39msqlstate\n\u001b[0;32m    716\u001b[0m     ) \u001b[38;5;28;01mfrom\u001b[39;00m \u001b[38;5;21;01merr\u001b[39;00m\n\u001b[0;32m    717\u001b[0m \u001b[38;5;28;01mexcept\u001b[39;00m \u001b[38;5;167;01mAttributeError\u001b[39;00m \u001b[38;5;28;01mas\u001b[39;00m err:\n\u001b[0;32m    718\u001b[0m     addr \u001b[38;5;241m=\u001b[39m (\n\u001b[0;32m    719\u001b[0m         \u001b[38;5;28mself\u001b[39m\u001b[38;5;241m.\u001b[39m_unix_socket \u001b[38;5;28;01mif\u001b[39;00m \u001b[38;5;28mself\u001b[39m\u001b[38;5;241m.\u001b[39m_unix_socket \u001b[38;5;28;01melse\u001b[39;00m \u001b[38;5;124mf\u001b[39m\u001b[38;5;124m\"\u001b[39m\u001b[38;5;132;01m{\u001b[39;00m\u001b[38;5;28mself\u001b[39m\u001b[38;5;241m.\u001b[39m_host\u001b[38;5;132;01m}\u001b[39;00m\u001b[38;5;124m:\u001b[39m\u001b[38;5;132;01m{\u001b[39;00m\u001b[38;5;28mself\u001b[39m\u001b[38;5;241m.\u001b[39m_port\u001b[38;5;132;01m}\u001b[39;00m\u001b[38;5;124m\"\u001b[39m\n\u001b[0;32m    720\u001b[0m     )\n",
      "\u001b[1;31mIntegrityError\u001b[0m: 1062 (23000): Duplicate entry '1' for key 'info.PRIMARY'"
     ]
    }
   ],
   "source": [
    "# Insert data into the info table\n",
    "cursor.execute(\"\"\"\n",
    "INSERT INTO info (id, name, age) VALUES\n",
    "(1, 'Alice', 25),\n",
    "(2, 'Bob', 30),\n",
    "(3, 'Charlie', 35)\n",
    "\"\"\")\n",
    "\n",
    "# Insert data into the salaries table\n",
    "cursor.execute(\"\"\"\n",
    "INSERT INTO salaries (id, name, salary) VALUES\n",
    "(1, 'Alice', 50000),\n",
    "(2, 'Bob', 60000),\n",
    "(3, 'Charlie', 70000)\n",
    "\"\"\")\n",
    "\n",
    "# Commit the changes\n",
    "connection.commit()\n",
    "\n",
    "print(\"Data inserted successfully\")"
   ]
  },
  {
   "cell_type": "code",
   "execution_count": 7,
   "metadata": {},
   "outputs": [
    {
     "name": "stdout",
     "output_type": "stream",
     "text": [
      "Data inserted successfully\n"
     ]
    }
   ],
   "source": [
    "# Insert data into the info table\n",
    "cursor.execute(\"\"\"\n",
    "INSERT INTO info (id, name, age) VALUES\n",
    "(4, 'Khaled', 25)\n",
    "\"\"\")\n",
    "\n",
    "# Insert data into the salaries table\n",
    "cursor.execute(\"\"\"\n",
    "INSERT INTO salaries (id, name, salary) VALUES\n",
    "(6, 'Hassan', 50000)\n",
    "\"\"\")\n",
    "\n",
    "# Commit the changes\n",
    "connection.commit()\n",
    "\n",
    "print(\"Data inserted successfully\")"
   ]
  },
  {
   "cell_type": "code",
   "execution_count": 9,
   "metadata": {},
   "outputs": [
    {
     "name": "stdout",
     "output_type": "stream",
     "text": [
      "(1, 'Alice', 25)\n",
      "(2, 'Bob', 30)\n",
      "(3, 'Charlie', 35)\n",
      "(4, 'Khaled', 25)\n"
     ]
    }
   ],
   "source": [
    "cursor.execute(\"SELECT * FROM info\")\n",
    "for d in cursor:\n",
    "    print(d)"
   ]
  },
  {
   "cell_type": "markdown",
   "metadata": {},
   "source": [
    "Inner Join"
   ]
  },
  {
   "cell_type": "code",
   "execution_count": 16,
   "metadata": {},
   "outputs": [
    {
     "name": "stdout",
     "output_type": "stream",
     "text": [
      "(1, 'Alice', 25, 1, 'Alice', 50000)\n",
      "(2, 'Bob', 30, 2, 'Bob', 60000)\n",
      "(3, 'Charlie', 35, 3, 'Charlie', 70000)\n"
     ]
    }
   ],
   "source": [
    "cursor.execute(\"SELECT * FROM info INNER JOIN salaries ON info.id = salaries.id\")\n",
    "for d in cursor:\n",
    "    print(d)"
   ]
  },
  {
   "cell_type": "code",
   "execution_count": 17,
   "metadata": {},
   "outputs": [
    {
     "name": "stdout",
     "output_type": "stream",
     "text": [
      "('Alice', 25, 50000)\n",
      "('Bob', 30, 60000)\n",
      "('Charlie', 35, 70000)\n"
     ]
    }
   ],
   "source": [
    "cursor.execute(\"SELECT info.name,info.age,salaries.salary FROM info INNER JOIN salaries ON info.id = salaries.id\")\n",
    "for d in cursor:\n",
    "    print(d)"
   ]
  },
  {
   "cell_type": "code",
   "execution_count": 20,
   "metadata": {},
   "outputs": [
    {
     "name": "stdout",
     "output_type": "stream",
     "text": [
      "('Alice', 25, 50000)\n",
      "('Bob', 30, 60000)\n",
      "('Charlie', 35, 70000)\n"
     ]
    }
   ],
   "source": [
    "cursor.execute(\"\"\"\n",
    "               SELECT i.name,i.age,s.salary \n",
    "               FROM info i\n",
    "               INNER JOIN salaries s\n",
    "               ON i.id = s.id\n",
    "               \"\"\")\n",
    "for d in cursor:\n",
    "    print(d)"
   ]
  },
  {
   "cell_type": "markdown",
   "metadata": {},
   "source": [
    "Outer Join"
   ]
  },
  {
   "cell_type": "code",
   "execution_count": 21,
   "metadata": {},
   "outputs": [
    {
     "name": "stdout",
     "output_type": "stream",
     "text": [
      "('Alice', 25, 50000)\n",
      "('Bob', 30, 60000)\n",
      "('Charlie', 35, 70000)\n",
      "('Khaled', 25, None)\n"
     ]
    }
   ],
   "source": [
    "# LEFT JOIN\n",
    "cursor.execute(\"\"\"\n",
    "               SELECT i.name,i.age,s.salary \n",
    "               FROM info i\n",
    "               LEFT JOIN salaries s\n",
    "               ON i.id = s.id\n",
    "               \"\"\")\n",
    "for d in cursor:\n",
    "    print(d)"
   ]
  },
  {
   "cell_type": "code",
   "execution_count": 11,
   "metadata": {},
   "outputs": [
    {
     "name": "stdout",
     "output_type": "stream",
     "text": [
      "('Alice', 25, 50000)\n",
      "('Bob', 30, 60000)\n",
      "('Charlie', 35, 70000)\n",
      "('Hassan', None, 50000)\n"
     ]
    }
   ],
   "source": [
    "# RIGHT JOIN\n",
    "cursor.execute(\"\"\"\n",
    "               SELECT s.name,i.age,s.salary \n",
    "               FROM info i\n",
    "               RIGHT JOIN salaries s\n",
    "               ON i.id = s.id\n",
    "               \"\"\")\n",
    "for d in cursor:\n",
    "    print(d)"
   ]
  },
  {
   "cell_type": "code",
   "execution_count": 40,
   "metadata": {},
   "outputs": [
    {
     "name": "stdout",
     "output_type": "stream",
     "text": [
      "('Alice', 25, 50000)\n",
      "('Bob', 30, 60000)\n",
      "('Charlie', 35, 70000)\n",
      "('Khaled', 25, None)\n",
      "('Hassan', None, 50000)\n"
     ]
    }
   ],
   "source": [
    "# FULL OUTER JOIN\n",
    "cursor.execute(\"\"\"\n",
    "                SELECT i.name, i.age , s.salary\n",
    "                FROM info i\n",
    "                LEFT JOIN salaries s ON i.id = s.id\n",
    "\n",
    "                UNION DISTINCT\n",
    "\n",
    "                SELECT s.name, i.age , s.salary\n",
    "                FROM info i\n",
    "                RIGHT JOIN salaries s ON i.id = s.id\n",
    "               \"\"\")\n",
    "for d in cursor:\n",
    "    print(d)"
   ]
  },
  {
   "cell_type": "code",
   "execution_count": 12,
   "metadata": {},
   "outputs": [
    {
     "name": "stdout",
     "output_type": "stream",
     "text": [
      "('Hassan', None, 50000)\n"
     ]
    }
   ],
   "source": [
    "# Differnce between Two tables on Right\n",
    "cursor.execute(\"\"\"\n",
    "                SELECT s.name, i.age , s.salary\n",
    "                FROM info i\n",
    "                RIGHT JOIN salaries s ON i.id = s.id\n",
    "                WHERE i.id IS NULL\n",
    "               \"\"\")\n",
    "for d in cursor:\n",
    "    print(d)"
   ]
  },
  {
   "cell_type": "code",
   "execution_count": 13,
   "metadata": {},
   "outputs": [
    {
     "name": "stdout",
     "output_type": "stream",
     "text": [
      "('Khaled', 25, None)\n"
     ]
    }
   ],
   "source": [
    "# Differnce between Two tables on Left\n",
    "cursor.execute(\"\"\"\n",
    "                SELECT i.name, i.age , s.salary\n",
    "                FROM info i\n",
    "                LEFT JOIN salaries s ON i.id = s.id\n",
    "                WHERE s.id IS NULL\n",
    "               \"\"\")\n",
    "for d in cursor:\n",
    "    print(d)"
   ]
  },
  {
   "cell_type": "code",
   "execution_count": 21,
   "metadata": {},
   "outputs": [
    {
     "name": "stdout",
     "output_type": "stream",
     "text": [
      "('Khaled', 25, None)\n",
      "('Hassan', None, 50000)\n"
     ]
    }
   ],
   "source": [
    "# Differnce between Two tables on Left\n",
    "cursor.execute(\"\"\"\n",
    "                SELECT i.name, i.age , s.salary\n",
    "                FROM info i\n",
    "                LEFT JOIN salaries s ON i.id = s.id\n",
    "                WHERE i.id IS NULL OR s.id IS NULL\n",
    "\n",
    "                UNION DISTINCT\n",
    "\n",
    "                SELECT s.name, i.age , s.salary\n",
    "                FROM info i\n",
    "                RIGHT JOIN salaries s ON i.id = s.id\n",
    "                WHERE i.id IS NULL OR s.id IS NULL\n",
    "               \"\"\")\n",
    "for d in cursor:\n",
    "    print(d)"
   ]
  },
  {
   "cell_type": "markdown",
   "metadata": {},
   "source": [
    "Aggregate functions"
   ]
  },
  {
   "cell_type": "code",
   "execution_count": 42,
   "metadata": {},
   "outputs": [
    {
     "name": "stdout",
     "output_type": "stream",
     "text": [
      "(4,)\n"
     ]
    }
   ],
   "source": [
    "cursor.execute(\"\"\"\n",
    "SELECT COUNT(*)\n",
    "FROM info\n",
    "\"\"\")\n",
    "\n",
    "for d in cursor:\n",
    "    print(d)"
   ]
  },
  {
   "cell_type": "code",
   "execution_count": 44,
   "metadata": {},
   "outputs": [
    {
     "name": "stdout",
     "output_type": "stream",
     "text": [
      "(70000, 50000, Decimal('60000.0000'))\n"
     ]
    }
   ],
   "source": [
    "cursor.execute(\"\"\"\n",
    "SELECT MAX(s.salary) , MIN(s.salary) , AVG(s.salary)\n",
    "                FROM info i\n",
    "                INNER JOIN salaries s ON i.id = s.id\n",
    "\"\"\")\n",
    "\n",
    "for d in cursor:\n",
    "    print(d)"
   ]
  },
  {
   "cell_type": "markdown",
   "metadata": {},
   "source": [
    "GROUP BY"
   ]
  },
  {
   "cell_type": "code",
   "execution_count": 6,
   "metadata": {},
   "outputs": [
    {
     "name": "stdout",
     "output_type": "stream",
     "text": [
      "Data inserted successfully\n"
     ]
    }
   ],
   "source": [
    "# Create the Customer table\n",
    "cursor.execute(\"\"\"\n",
    "CREATE TABLE IF NOT EXISTS Customer (\n",
    "    CustomerID INT PRIMARY KEY,\n",
    "    CustomerName VARCHAR(255),\n",
    "    ContactName VARCHAR(255),\n",
    "    Address VARCHAR(255),\n",
    "    City VARCHAR(255),\n",
    "    PostalCode VARCHAR(20),\n",
    "    Country VARCHAR(50)\n",
    ")\n",
    "\"\"\")\n",
    "\n",
    "# Insert data into the Customer table\n",
    "# cursor.execute(\"\"\"\n",
    "# INSERT INTO Customer (CustomerID, CustomerName, ContactName, Address, City, PostalCode, Country) VALUES\n",
    "# (1, 'Alfreds Futterkiste', 'Maria Anders', 'Obere Str. 57', 'Berlin', '12209', 'Germany'),\n",
    "# (2, 'Ana Trujillo Emparedados y helados', 'Ana Trujillo', 'Avda. de la Constitución 2222', 'México D.F.', '05021', 'Mexico'),\n",
    "# (3, 'Antonio Moreno Taquería', 'Antonio Moreno', 'Mataderos 2312', 'México D.F.', '05023', 'Mexico'),\n",
    "# (4, 'Around the Horn', 'Thomas Hardy', '120 Hanover Sq.', 'London', 'WA1 1DP', 'UK'),\n",
    "# (5, 'Berglunds snabbköp', 'Christina Berglund', 'Berguvsvägen 8', 'Luleå', 'S-958 22', 'Sweden')\n",
    "# \"\"\")\n",
    "\n",
    "# Commit the changes\n",
    "connection.commit()\n",
    "\n",
    "print(\"Data inserted successfully\")"
   ]
  },
  {
   "cell_type": "code",
   "execution_count": 9,
   "metadata": {},
   "outputs": [
    {
     "name": "stdout",
     "output_type": "stream",
     "text": [
      "('Mexico', 2)\n",
      "('Germany', 1)\n",
      "('UK', 1)\n",
      "('Sweden', 1)\n"
     ]
    }
   ],
   "source": [
    "cursor.execute(\"\"\"\n",
    "SELECT Country,COUNT(CustomerID)\n",
    "FROM Customer\n",
    "GROUP BY Country\n",
    "ORDER BY COUNT(CustomerID) DESC\n",
    "\n",
    "\"\"\")\n",
    "\n",
    "for d in cursor:\n",
    "    print(d)"
   ]
  },
  {
   "cell_type": "code",
   "execution_count": null,
   "metadata": {},
   "outputs": [],
   "source": []
  }
 ],
 "metadata": {
  "kernelspec": {
   "display_name": "base",
   "language": "python",
   "name": "python3"
  },
  "language_info": {
   "codemirror_mode": {
    "name": "ipython",
    "version": 3
   },
   "file_extension": ".py",
   "mimetype": "text/x-python",
   "name": "python",
   "nbconvert_exporter": "python",
   "pygments_lexer": "ipython3",
   "version": "3.12.3"
  }
 },
 "nbformat": 4,
 "nbformat_minor": 2
}
