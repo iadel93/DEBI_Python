{
 "cells": [
  {
   "cell_type": "code",
   "execution_count": 1,
   "id": "8e2cd48b",
   "metadata": {},
   "outputs": [
    {
     "name": "stdout",
     "output_type": "stream",
     "text": [
      "Model accuracy: 1.00\n"
     ]
    }
   ],
   "source": [
    "import mlflow\n",
    "from sklearn.datasets import load_iris\n",
    "from sklearn.tree import DecisionTreeClassifier\n",
    "from sklearn.metrics import accuracy_score\n",
    "\n",
    "data = load_iris()\n",
    "X, y = data.data, data.target\n",
    "model = DecisionTreeClassifier()\n",
    "model.fit(X, y)\n",
    "\n",
    "y_pred = model.predict(X)\n",
    "accuracy = accuracy_score(y, y_pred)\n",
    "print(f\"Model accuracy: {accuracy:.2f}\")\n"
   ]
  },
  {
   "cell_type": "code",
   "execution_count": 2,
   "id": "68c20770",
   "metadata": {},
   "outputs": [],
   "source": [
    "mlflow.set_tracking_uri(uri=\"http://127.0.0.1:5000\")"
   ]
  },
  {
   "cell_type": "code",
   "execution_count": 3,
   "id": "d01cd2cc",
   "metadata": {},
   "outputs": [
    {
     "data": {
      "text/plain": [
       "<Experiment: artifact_location='mlflow-artifacts:/994234090907559238', creation_time=1746292595175, experiment_id='994234090907559238', last_update_time=1746292595175, lifecycle_stage='active', name='MLflow Iris Experiment', tags={}>"
      ]
     },
     "execution_count": 3,
     "metadata": {},
     "output_type": "execute_result"
    }
   ],
   "source": [
    "mlflow.set_experiment(\"MLflow Iris Experiment\")"
   ]
  },
  {
   "cell_type": "code",
   "execution_count": 4,
   "id": "41f5f032",
   "metadata": {},
   "outputs": [
    {
     "data": {
      "application/vnd.jupyter.widget-view+json": {
       "model_id": "c124530cdcb44900b6feb23e38d03b3c",
       "version_major": 2,
       "version_minor": 0
      },
      "text/plain": [
       "Downloading artifacts:   0%|          | 0/7 [00:00<?, ?it/s]"
      ]
     },
     "metadata": {},
     "output_type": "display_data"
    },
    {
     "name": "stderr",
     "output_type": "stream",
     "text": [
      "Registered model 'DT_iris_model' already exists. Creating a new version of this model...\n",
      "2025/05/09 15:04:00 INFO mlflow.store.model_registry.abstract_store: Waiting up to 300 seconds for model version to finish creation. Model name: DT_iris_model, version 2\n"
     ]
    },
    {
     "name": "stdout",
     "output_type": "stream",
     "text": [
      "🏃 View run amazing-bear-71 at: http://127.0.0.1:5000/#/experiments/994234090907559238/runs/aa9d14ba1871479baed24f40296e929d\n",
      "🧪 View experiment at: http://127.0.0.1:5000/#/experiments/994234090907559238\n"
     ]
    },
    {
     "name": "stderr",
     "output_type": "stream",
     "text": [
      "Created version '2' of model 'DT_iris_model'.\n"
     ]
    }
   ],
   "source": [
    "from mlflow.models import infer_signature\n",
    "DT_params = {\n",
    "    \"criterion\": \"gini\",\n",
    "    \"max_depth\": 3,\n",
    "    \"min_samples_split\": 2,\n",
    "    \"min_samples_leaf\": 1,\n",
    "}\n",
    "\n",
    "model = DecisionTreeClassifier(criterion=DT_params[\"criterion\"],\n",
    "                               max_depth=DT_params[\"max_depth\"],\n",
    "                               min_samples_split=DT_params[\"min_samples_split\"],\n",
    "                               min_samples_leaf=DT_params[\"min_samples_leaf\"])\n",
    "model.fit(X, y)\n",
    "y_pred = model.predict(X)\n",
    "accuracy = accuracy_score(y, y_pred)\n",
    "\n",
    "# Start an MLflow run\n",
    "with mlflow.start_run():\n",
    "    # Log the hyperparameters\n",
    "    mlflow.log_params(DT_params)\n",
    "\n",
    "    # Log the loss metric\n",
    "    mlflow.log_metric(\"accuracy\", accuracy)\n",
    "\n",
    "    # Set a tag that we can use to remind ourselves what this run was for\n",
    "    mlflow.set_tag(\"Training Info\", \"Basic DT model for iris data\")\n",
    "\n",
    "    # Infer the model signature\n",
    "    signature = infer_signature(X, model.predict(X))\n",
    "\n",
    "    # Log the model\n",
    "    model_info = mlflow.sklearn.log_model(\n",
    "        sk_model=model,\n",
    "        artifact_path=\"iris_model_DT\",\n",
    "        signature=signature,\n",
    "        input_example=X,\n",
    "        registered_model_name=\"DT_iris_model\",\n",
    "    )"
   ]
  },
  {
   "cell_type": "code",
   "execution_count": 5,
   "id": "555dd4e2",
   "metadata": {},
   "outputs": [
    {
     "data": {
      "application/vnd.jupyter.widget-view+json": {
       "model_id": "26f8c98269154257baeccee338eeed8e",
       "version_major": 2,
       "version_minor": 0
      },
      "text/plain": [
       "Downloading artifacts:   0%|          | 0/7 [00:00<?, ?it/s]"
      ]
     },
     "metadata": {},
     "output_type": "display_data"
    }
   ],
   "source": [
    "loaded_model = mlflow.pyfunc.load_model(model_info.model_uri)"
   ]
  },
  {
   "cell_type": "code",
   "execution_count": 6,
   "id": "43fc49e8",
   "metadata": {},
   "outputs": [
    {
     "name": "stdout",
     "output_type": "stream",
     "text": [
      "Loaded model accuracy: 0.97\n"
     ]
    }
   ],
   "source": [
    "predicted = loaded_model.predict(X)\n",
    "accuracy = accuracy_score(y, predicted)\n",
    "print(f\"Loaded model accuracy: {accuracy:.2f}\")\n"
   ]
  },
  {
   "cell_type": "code",
   "execution_count": 7,
   "id": "f1f75cb3",
   "metadata": {},
   "outputs": [
    {
     "name": "stderr",
     "output_type": "stream",
     "text": [
      "2025/05/09 15:23:33 INFO mlflow.tracking.fluent: Autologging successfully enabled for sklearn.\n",
      "2025/05/09 15:23:33 INFO mlflow.utils.autologging_utils: Created MLflow autologging run with ID 'e966d9ee449543e49e0810ecc33c8498', which will track hyperparameters, performance metrics, model artifacts, and lineage information for the current sklearn workflow\n"
     ]
    },
    {
     "name": "stdout",
     "output_type": "stream",
     "text": [
      "🏃 View run redolent-shad-638 at: http://127.0.0.1:5000/#/experiments/994234090907559238/runs/e966d9ee449543e49e0810ecc33c8498\n",
      "🧪 View experiment at: http://127.0.0.1:5000/#/experiments/994234090907559238\n",
      "Random Forest Model accuracy: 1.00\n"
     ]
    }
   ],
   "source": [
    "from sklearn.ensemble import RandomForestClassifier\n",
    "\n",
    "mlflow.autolog()\n",
    "\n",
    "rf = RandomForestClassifier(n_estimators=100, max_depth=6, max_features=3)\n",
    "# MLflow triggers logging automatically upon model fitting\n",
    "rf.fit(X, y)\n",
    "y_pred = rf.predict(X)\n",
    "accuracy = accuracy_score(y, y_pred)\n",
    "print(f\"Random Forest Model accuracy: {accuracy:.2f}\")\n",
    "\n",
    "# The model is automatically logged to MLflow, so we don't need to log it manually\n",
    "# You can view the logged model in the MLflow UI\n",
    "# mlflow ui --backend-store-uri sqlite:///mlruns.db --host"
   ]
  },
  {
   "cell_type": "code",
   "execution_count": 9,
   "id": "afecb33c",
   "metadata": {},
   "outputs": [
    {
     "name": "stderr",
     "output_type": "stream",
     "text": [
      "2025/05/09 15:25:36 INFO mlflow.tracking.fluent: Autologging successfully enabled for sklearn.\n",
      "2025/05/09 15:25:36 INFO mlflow.utils.autologging_utils: Created MLflow autologging run with ID '7da58041b8e3414e907ce5761b770427', which will track hyperparameters, performance metrics, model artifacts, and lineage information for the current sklearn workflow\n"
     ]
    },
    {
     "name": "stdout",
     "output_type": "stream",
     "text": [
      "🏃 View run marvelous-snail-800 at: http://127.0.0.1:5000/#/experiments/994234090907559238/runs/7da58041b8e3414e907ce5761b770427\n",
      "🧪 View experiment at: http://127.0.0.1:5000/#/experiments/994234090907559238\n",
      "Logistic Regression Model accuracy: 0.97\n"
     ]
    }
   ],
   "source": [
    "from sklearn.linear_model import LogisticRegression\n",
    "mlflow.autolog()\n",
    "\n",
    "log_reg = LogisticRegression(max_iter=1000)\n",
    "\n",
    "# MLflow triggers logging automatically upon model fitting\n",
    "log_reg.fit(X, y)\n",
    "y_pred = log_reg.predict(X)\n",
    "accuracy = accuracy_score(y, y_pred)\n",
    "print(f\"Logistic Regression Model accuracy: {accuracy:.2f}\")"
   ]
  },
  {
   "cell_type": "code",
   "execution_count": 10,
   "id": "bf958e73",
   "metadata": {},
   "outputs": [
    {
     "name": "stderr",
     "output_type": "stream",
     "text": [
      "2025/05/09 15:29:00 INFO mlflow.tracking.fluent: Autologging successfully enabled for sklearn.\n",
      "2025/05/09 15:29:01 INFO mlflow.utils.autologging_utils: Created MLflow autologging run with ID 'f40be9e450bb4abf94e3399c23cad5d5', which will track hyperparameters, performance metrics, model artifacts, and lineage information for the current sklearn workflow\n",
      "c:\\Users\\engsm\\miniconda3\\Lib\\site-packages\\sklearn\\linear_model\\_logistic.py:469: ConvergenceWarning: lbfgs failed to converge (status=1):\n",
      "STOP: TOTAL NO. of ITERATIONS REACHED LIMIT.\n",
      "\n",
      "Increase the number of iterations (max_iter) or scale the data as shown in:\n",
      "    https://scikit-learn.org/stable/modules/preprocessing.html\n",
      "Please also refer to the documentation for alternative solver options:\n",
      "    https://scikit-learn.org/stable/modules/linear_model.html#logistic-regression\n",
      "  n_iter_i = _check_optimize_result(\n"
     ]
    },
    {
     "name": "stdout",
     "output_type": "stream",
     "text": [
      "🏃 View run capricious-whale-506 at: http://127.0.0.1:5000/#/experiments/994234090907559238/runs/f40be9e450bb4abf94e3399c23cad5d5\n",
      "🧪 View experiment at: http://127.0.0.1:5000/#/experiments/994234090907559238\n",
      "Logistic Regression Model accuracy: 0.97\n"
     ]
    }
   ],
   "source": [
    "from sklearn.linear_model import LogisticRegression\n",
    "mlflow.autolog()\n",
    "\n",
    "log_reg = LogisticRegression(max_iter=10)\n",
    "\n",
    "# MLflow triggers logging automatically upon model fitting\n",
    "log_reg.fit(X, y)\n",
    "y_pred = log_reg.predict(X)\n",
    "accuracy = accuracy_score(y, y_pred)\n",
    "print(f\"Logistic Regression Model accuracy: {accuracy:.2f}\")"
   ]
  },
  {
   "cell_type": "code",
   "execution_count": null,
   "id": "09e58968",
   "metadata": {},
   "outputs": [],
   "source": []
  }
 ],
 "metadata": {
  "kernelspec": {
   "display_name": "base",
   "language": "python",
   "name": "python3"
  },
  "language_info": {
   "codemirror_mode": {
    "name": "ipython",
    "version": 3
   },
   "file_extension": ".py",
   "mimetype": "text/x-python",
   "name": "python",
   "nbconvert_exporter": "python",
   "pygments_lexer": "ipython3",
   "version": "3.12.3"
  }
 },
 "nbformat": 4,
 "nbformat_minor": 5
}
