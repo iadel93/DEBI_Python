{
 "cells": [
  {
   "cell_type": "code",
   "execution_count": 1,
   "id": "8e2cd48b",
   "metadata": {},
   "outputs": [
    {
     "name": "stdout",
     "output_type": "stream",
     "text": [
      "Model accuracy: 1.00\n"
     ]
    }
   ],
   "source": [
    "import mlflow\n",
    "from sklearn.datasets import load_iris\n",
    "from sklearn.tree import DecisionTreeClassifier\n",
    "from sklearn.metrics import accuracy_score\n",
    "\n",
    "data = load_iris()\n",
    "X, y = data.data, data.target\n",
    "model = DecisionTreeClassifier()\n",
    "model.fit(X, y)\n",
    "\n",
    "y_pred = model.predict(X)\n",
    "accuracy = accuracy_score(y, y_pred)\n",
    "print(f\"Model accuracy: {accuracy:.2f}\")\n"
   ]
  },
  {
   "cell_type": "code",
   "execution_count": 2,
   "id": "68c20770",
   "metadata": {},
   "outputs": [],
   "source": [
    "mlflow.set_tracking_uri(uri=\"http://127.0.0.1:5000\")"
   ]
  },
  {
   "cell_type": "code",
   "execution_count": 3,
   "id": "d01cd2cc",
   "metadata": {},
   "outputs": [
    {
     "name": "stderr",
     "output_type": "stream",
     "text": [
      "2025/05/03 20:16:35 INFO mlflow.tracking.fluent: Experiment with name 'MLflow Iris Experiment' does not exist. Creating a new experiment.\n"
     ]
    },
    {
     "data": {
      "text/plain": [
       "<Experiment: artifact_location='mlflow-artifacts:/994234090907559238', creation_time=1746292595175, experiment_id='994234090907559238', last_update_time=1746292595175, lifecycle_stage='active', name='MLflow Iris Experiment', tags={}>"
      ]
     },
     "execution_count": 3,
     "metadata": {},
     "output_type": "execute_result"
    }
   ],
   "source": [
    "mlflow.set_experiment(\"MLflow Iris Experiment\")"
   ]
  },
  {
   "cell_type": "code",
   "execution_count": 4,
   "id": "41f5f032",
   "metadata": {},
   "outputs": [
    {
     "data": {
      "application/vnd.jupyter.widget-view+json": {
       "model_id": "f534316b85734c4594ae5548438d73e5",
       "version_major": 2,
       "version_minor": 0
      },
      "text/plain": [
       "Downloading artifacts:   0%|          | 0/7 [00:00<?, ?it/s]"
      ]
     },
     "metadata": {},
     "output_type": "display_data"
    },
    {
     "name": "stderr",
     "output_type": "stream",
     "text": [
      "Successfully registered model 'DT_iris_model'.\n",
      "2025/05/03 20:19:18 INFO mlflow.store.model_registry.abstract_store: Waiting up to 300 seconds for model version to finish creation. Model name: DT_iris_model, version 1\n"
     ]
    },
    {
     "name": "stdout",
     "output_type": "stream",
     "text": [
      "🏃 View run defiant-rat-691 at: http://127.0.0.1:5000/#/experiments/994234090907559238/runs/cebce6b1efc74f9facdc52a6bef98ebb\n",
      "🧪 View experiment at: http://127.0.0.1:5000/#/experiments/994234090907559238\n"
     ]
    },
    {
     "name": "stderr",
     "output_type": "stream",
     "text": [
      "Created version '1' of model 'DT_iris_model'.\n"
     ]
    }
   ],
   "source": [
    "from mlflow.models import infer_signature\n",
    "DT_params = {\n",
    "    \"criterion\": \"gini\",\n",
    "    \"max_depth\": 3,\n",
    "    \"min_samples_split\": 2,\n",
    "    \"min_samples_leaf\": 1,\n",
    "}\n",
    "\n",
    "model = DecisionTreeClassifier(criterion=DT_params[\"criterion\"],\n",
    "                               max_depth=DT_params[\"max_depth\"],\n",
    "                               min_samples_split=DT_params[\"min_samples_split\"],\n",
    "                               min_samples_leaf=DT_params[\"min_samples_leaf\"])\n",
    "model.fit(X, y)\n",
    "y_pred = model.predict(X)\n",
    "accuracy = accuracy_score(y, y_pred)\n",
    "\n",
    "# Start an MLflow run\n",
    "with mlflow.start_run():\n",
    "    # Log the hyperparameters\n",
    "    mlflow.log_params(DT_params)\n",
    "\n",
    "    # Log the loss metric\n",
    "    mlflow.log_metric(\"accuracy\", accuracy)\n",
    "\n",
    "    # Set a tag that we can use to remind ourselves what this run was for\n",
    "    mlflow.set_tag(\"Training Info\", \"Basic LR model for iris data\")\n",
    "\n",
    "    # Infer the model signature\n",
    "    signature = infer_signature(X, model.predict(X))\n",
    "\n",
    "    # Log the model\n",
    "    model_info = mlflow.sklearn.log_model(\n",
    "        sk_model=model,\n",
    "        artifact_path=\"iris_model_DT\",\n",
    "        signature=signature,\n",
    "        input_example=X,\n",
    "        registered_model_name=\"DT_iris_model\",\n",
    "    )"
   ]
  },
  {
   "cell_type": "code",
   "execution_count": 5,
   "id": "555dd4e2",
   "metadata": {},
   "outputs": [
    {
     "data": {
      "application/vnd.jupyter.widget-view+json": {
       "model_id": "8e42470106504d98a10307fbf1baca1a",
       "version_major": 2,
       "version_minor": 0
      },
      "text/plain": [
       "Downloading artifacts:   0%|          | 0/7 [00:00<?, ?it/s]"
      ]
     },
     "metadata": {},
     "output_type": "display_data"
    }
   ],
   "source": [
    "loaded_model = mlflow.pyfunc.load_model(model_info.model_uri)"
   ]
  },
  {
   "cell_type": "code",
   "execution_count": 6,
   "id": "43fc49e8",
   "metadata": {},
   "outputs": [
    {
     "name": "stdout",
     "output_type": "stream",
     "text": [
      "Loaded model accuracy: 0.97\n"
     ]
    }
   ],
   "source": [
    "predicted = loaded_model.predict(X)\n",
    "accuracy = accuracy_score(y, predicted)\n",
    "print(f\"Loaded model accuracy: {accuracy:.2f}\")\n"
   ]
  },
  {
   "cell_type": "code",
   "execution_count": null,
   "id": "f1f75cb3",
   "metadata": {},
   "outputs": [
    {
     "name": "stderr",
     "output_type": "stream",
     "text": [
      "2025/05/03 20:38:54 INFO mlflow.tracking.fluent: Autologging successfully enabled for sklearn.\n",
      "2025/05/03 20:38:55 INFO mlflow.utils.autologging_utils: Created MLflow autologging run with ID '33e6a25e40fa4fdab00ddc21924337ac', which will track hyperparameters, performance metrics, model artifacts, and lineage information for the current sklearn workflow\n"
     ]
    },
    {
     "name": "stdout",
     "output_type": "stream",
     "text": [
      "🏃 View run kindly-calf-922 at: http://127.0.0.1:5000/#/experiments/994234090907559238/runs/33e6a25e40fa4fdab00ddc21924337ac\n",
      "🧪 View experiment at: http://127.0.0.1:5000/#/experiments/994234090907559238\n",
      "Random Forest Model accuracy: 0.99\n"
     ]
    }
   ],
   "source": [
    "from sklearn.ensemble import RandomForestClassifier\n",
    "\n",
    "mlflow.autolog()\n",
    "\n",
    "rf = RandomForestClassifier(n_estimators=100, max_depth=6, max_features=3)\n",
    "# MLflow triggers logging automatically upon model fitting\n",
    "rf.fit(X, y)\n",
    "y_pred = rf.predict(X)\n",
    "accuracy = accuracy_score(y, y_pred)\n",
    "print(f\"Random Forest Model accuracy: {accuracy:.2f}\")\n",
    "\n",
    "# The model is automatically logged to MLflow, so we don't need to log it manually\n",
    "# You can view the logged model in the MLflow UI\n",
    "# mlflow ui --backend-store-uri sqlite:///mlruns.db --host"
   ]
  },
  {
   "cell_type": "code",
   "execution_count": null,
   "id": "afecb33c",
   "metadata": {},
   "outputs": [],
   "source": []
  }
 ],
 "metadata": {
  "kernelspec": {
   "display_name": "base",
   "language": "python",
   "name": "python3"
  },
  "language_info": {
   "codemirror_mode": {
    "name": "ipython",
    "version": 3
   },
   "file_extension": ".py",
   "mimetype": "text/x-python",
   "name": "python",
   "nbconvert_exporter": "python",
   "pygments_lexer": "ipython3",
   "version": "3.12.3"
  }
 },
 "nbformat": 4,
 "nbformat_minor": 5
}
