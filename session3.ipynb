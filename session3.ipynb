{
 "cells": [
  {
   "cell_type": "code",
   "execution_count": 26,
   "metadata": {},
   "outputs": [
    {
     "name": "stdout",
     "output_type": "stream",
     "text": [
      "[[1, 2, 3], [4, 5, 6]]\n",
      "[1, 2, 3]\n",
      "3\n"
     ]
    }
   ],
   "source": [
    "# Nested List\n",
    "nums = [[1,2,3],[4,5,6]]\n",
    "print(nums)\n",
    "print(nums[0])\n",
    "print(nums[0][2])"
   ]
  },
  {
   "cell_type": "code",
   "execution_count": 4,
   "metadata": {},
   "outputs": [
    {
     "name": "stdout",
     "output_type": "stream",
     "text": [
      "12\n",
      "12\n"
     ]
    }
   ],
   "source": [
    "nums= []\n",
    "a = int(input(\"please enter a number :\"))\n",
    "b = int(input(\"please enter a number :\"))\n",
    "c = int(input(\"please enter a number :\"))\n",
    "nums.extend([a,b,c])\n",
    "print(nums[0] + nums[1] + nums[2])\n",
    "print(sum(nums))"
   ]
  },
  {
   "cell_type": "markdown",
   "metadata": {},
   "source": [
    "# Tuple"
   ]
  },
  {
   "cell_type": "code",
   "execution_count": 9,
   "metadata": {},
   "outputs": [
    {
     "name": "stdout",
     "output_type": "stream",
     "text": [
      "(3, 6, 1, 3, 5)\n",
      "<class 'tuple'>\n",
      "3\n"
     ]
    }
   ],
   "source": [
    "data = (3,6,1,3,5)\n",
    "print(data)\n",
    "print(type(data))\n",
    "\n",
    "# slicing\n",
    "print(data[3])\n",
    "\n",
    "# data[3] = 7 ERROR\n",
    "\n"
   ]
  },
  {
   "cell_type": "markdown",
   "metadata": {},
   "source": [
    "# dictionary"
   ]
  },
  {
   "cell_type": "code",
   "execution_count": null,
   "metadata": {},
   "outputs": [
    {
     "name": "stdout",
     "output_type": "stream",
     "text": [
      "{'Name': 'Islam', 'ID': 123456, 123: 111}\n",
      "<class 'dict'>\n",
      "Islam\n",
      "111\n",
      "{'Name': 'Islam', 'ID': 333444, 123: 111}\n",
      "{'Name': 'Islam', 'ID': 333444, 123: 111, 'City': '6 October'}\n",
      "{'Name': 'Islam', 'ID': 333444, 123: 111, 'City': 'Cairo'}\n",
      "{'Name': 'Islam', 'ID': 333444, 123: 111, 'City': 'Cairo', 'Gender': 'Male'}\n",
      "{'Name': 'Islam', 'ID': 333444, 123: 111, 'City': 'Cairo', 'Gender': 'Male'}\n",
      "{'Name': 'Islam', 'ID': 333444, 123: 111, 'City': 'Cairo', 'Gender': 'Male', 1: 123, 2: 456}\n"
     ]
    }
   ],
   "source": [
    "# data = {Key:Value}\n",
    "# Key --> can be int or str\n",
    "# Value --> can be any python object\n",
    "\n",
    "data = {\"Name\":\"Islam\", \"ID\":123456 , 123:111}\n",
    "print(data)\n",
    "print(type(data))\n",
    "\n",
    "# Slicing\n",
    "print(data['Name'])\n",
    "print(data[123])\n",
    "\n",
    "# Modify\n",
    "data['ID'] = 333444\n",
    "print(data)\n",
    "\n",
    "# Adding new items\n",
    "data[\"City\"] = \"6 October\"\n",
    "print(data)\n",
    "data[\"City\"] = \"Cairo\"\n",
    "print(data)\n",
    "\n",
    "data.setdefault(\"Gender\",\"Male\")\n",
    "print(data)\n",
    "data.setdefault(\"Gender\",\"MALE\")\n",
    "print(data)\n",
    "\n",
    "tmp = {1:123 , 2:456}\n",
    "data.update(tmp)\n",
    "print(data)"
   ]
  },
  {
   "cell_type": "code",
   "execution_count": 25,
   "metadata": {},
   "outputs": [
    {
     "name": "stdout",
     "output_type": "stream",
     "text": [
      "{'Name': 'Islam', 'ID': 333444, 123: 111, 'Gender': 'Male'}\n",
      "{'Name': 'Islam', 'ID': 333444, 123: 111}\n",
      "dict_keys(['Name', 'ID', 123])\n",
      "dict_values(['Islam', 333444, 111])\n",
      "dict_items([('Name', 'Islam'), ('ID', 333444), (123, 111)])\n"
     ]
    }
   ],
   "source": [
    "data = {'Name': 'Islam', 'ID': 333444, 123: 111, 'City': 'Cairo', 'Gender': 'Male'}\n",
    "\n",
    "# remove items\n",
    "data.pop(\"City\")\n",
    "print(data)\n",
    "\n",
    "data.popitem()\n",
    "print(data)\n",
    "\n",
    "# data.clear()\n",
    "# print(data)\n",
    "\n",
    "print(data.keys())\n",
    "print(data.values())\n",
    "print(data.items())"
   ]
  },
  {
   "cell_type": "code",
   "execution_count": null,
   "metadata": {},
   "outputs": [
    {
     "name": "stdout",
     "output_type": "stream",
     "text": [
      "{'ID': 123, 'Name': 'Ahmed', 'City': 'Cairo'}\n",
      "{'ID': 123, 'Name': 'Ahmed', 'City': 'Cairo'}\n"
     ]
    }
   ],
   "source": [
    "# Shallow Copy\n",
    "d1 = {\"ID\":123, \"Name\":\"Ahmed\"}\n",
    "d2 = d1\n",
    "d2.setdefault(\"City\",\"Cairo\")\n",
    "print(d1)\n",
    "print(d2)"
   ]
  },
  {
   "cell_type": "code",
   "execution_count": 27,
   "metadata": {},
   "outputs": [
    {
     "name": "stdout",
     "output_type": "stream",
     "text": [
      "{'ID': 123, 'Name': 'Ahmed'}\n",
      "{'ID': 123, 'Name': 'Ahmed', 'City': 'Cairo'}\n"
     ]
    }
   ],
   "source": [
    "# Deep Copy\n",
    "d1 = {\"ID\":123, \"Name\":\"Ahmed\"}\n",
    "d2 = d1.copy()\n",
    "d2.setdefault(\"City\",\"Cairo\")\n",
    "print(d1)\n",
    "print(d2)"
   ]
  },
  {
   "cell_type": "markdown",
   "metadata": {},
   "source": [
    "# Set"
   ]
  },
  {
   "cell_type": "code",
   "execution_count": 35,
   "metadata": {},
   "outputs": [
    {
     "name": "stdout",
     "output_type": "stream",
     "text": [
      "{34, 5, 54, 23, 668}\n",
      "<class 'set'>\n",
      "{6, 7}\n",
      "{34, 668, 54}\n",
      "{34, 5, 6, 7, 54, 23, 668}\n",
      "{5, 23}\n"
     ]
    }
   ],
   "source": [
    "nums = {23,54,23,5,668,34}\n",
    "print(nums)\n",
    "print(type(nums))\n",
    "\n",
    "tmp = {23,7,6,5}\n",
    "print(tmp.difference(nums))\n",
    "print(nums.difference(tmp))\n",
    "\n",
    "print(nums.union(tmp))\n",
    "\n",
    "print(nums.intersection(tmp))"
   ]
  },
  {
   "cell_type": "markdown",
   "metadata": {},
   "source": [
    "# Control Flow \n",
    "- Conditional ==> if, elif , else\n",
    "- Loops ==> for , while"
   ]
  },
  {
   "cell_type": "code",
   "execution_count": 4,
   "metadata": {},
   "outputs": [
    {
     "name": "stdout",
     "output_type": "stream",
     "text": [
      "X is equal to five\n"
     ]
    }
   ],
   "source": [
    "# IF condition\n",
    "# Syntax\n",
    "# if (Condition_1):\n",
    "#     Statement_1      Statement_1 is executed only if condition_1 is True\n",
    "# elif (Condition_2):\n",
    "#     Statement_2      Statement_2 is executed if condition_1 is False and \n",
    "#                      condition_2 is True\n",
    "# else : \n",
    "#     Statement_3      Statement_3 is execued only if condition_1 and 2 are False\n",
    "#                       (Default Case)\n",
    "x = 5\n",
    "if x >5 :\n",
    "    print(\"X is larger than five\")\n",
    "elif x < 5:\n",
    "    print(\"X is smaller than five\")\n",
    "else:\n",
    "    print(\"X is equal to five\")"
   ]
  },
  {
   "cell_type": "code",
   "execution_count": 5,
   "metadata": {},
   "outputs": [
    {
     "name": "stdout",
     "output_type": "stream",
     "text": [
      "OK\n"
     ]
    }
   ],
   "source": [
    "a = int(input(\"please enter a numebr :\"))\n",
    "b = int(input(\"please enter a numebr :\"))\n",
    "\n",
    "if a+b > 50:\n",
    "    print(\"OK\")\n",
    "else:\n",
    "    print(\"NOK\")"
   ]
  },
  {
   "cell_type": "code",
   "execution_count": 8,
   "metadata": {},
   "outputs": [
    {
     "name": "stdout",
     "output_type": "stream",
     "text": [
      "B\n",
      "C\n"
     ]
    }
   ],
   "source": [
    "grade = 80\n",
    "\n",
    "if grade > 90 :\n",
    "    print(\"A\")\n",
    "if grade >= 80 :\n",
    "    print(\"B\")\n",
    "if grade >= 70:\n",
    "    print(\"C\")"
   ]
  },
  {
   "cell_type": "code",
   "execution_count": 9,
   "metadata": {},
   "outputs": [
    {
     "name": "stdout",
     "output_type": "stream",
     "text": [
      "B\n"
     ]
    }
   ],
   "source": [
    "grade = 80\n",
    "\n",
    "if grade > 90 :\n",
    "    print(\"A\")\n",
    "elif grade >= 80 :\n",
    "    print(\"B\")\n",
    "elif grade >= 70:\n",
    "    print(\"C\")"
   ]
  },
  {
   "cell_type": "markdown",
   "metadata": {},
   "source": [
    "# For Loop"
   ]
  },
  {
   "cell_type": "code",
   "execution_count": 10,
   "metadata": {},
   "outputs": [
    {
     "name": "stdout",
     "output_type": "stream",
     "text": [
      "3\n",
      "4\n",
      "5\n"
     ]
    }
   ],
   "source": [
    "# Syntax\n",
    "# for (iterator) in (iterable):\n",
    "#           (Statement Block)\n",
    "\n",
    "for i in [3,4,5]:\n",
    "    print(i)"
   ]
  },
  {
   "cell_type": "code",
   "execution_count": 11,
   "metadata": {},
   "outputs": [
    {
     "name": "stdout",
     "output_type": "stream",
     "text": [
      "5\n",
      "10\n",
      "15\n",
      "20\n",
      "25\n",
      "30\n",
      "35\n",
      "40\n",
      "45\n",
      "50\n"
     ]
    }
   ],
   "source": [
    "for i in [1,2,3,4,5,6,7,8,9,10]:\n",
    "    print(i*5)"
   ]
  },
  {
   "cell_type": "code",
   "execution_count": 15,
   "metadata": {},
   "outputs": [
    {
     "name": "stdout",
     "output_type": "stream",
     "text": [
      "[0, 1, 2, 3, 4, 5, 6, 7, 8, 9]\n",
      "[2, 3, 4, 5, 6, 7, 8, 9, 10, 11]\n",
      "[2, 5, 8, 11]\n"
     ]
    }
   ],
   "source": [
    "# generators\n",
    "# range\n",
    "print(list(range(10)))\n",
    "print(list(range(2,12)))\n",
    "print(list(range(2,12,3)))"
   ]
  },
  {
   "cell_type": "code",
   "execution_count": 16,
   "metadata": {},
   "outputs": [
    {
     "name": "stdout",
     "output_type": "stream",
     "text": [
      "5\n",
      "10\n",
      "15\n",
      "20\n",
      "25\n",
      "30\n",
      "35\n",
      "40\n",
      "45\n",
      "50\n"
     ]
    }
   ],
   "source": [
    "for i in range(1,11):\n",
    "    print(i*5)"
   ]
  },
  {
   "cell_type": "code",
   "execution_count": 31,
   "metadata": {},
   "outputs": [
    {
     "name": "stdout",
     "output_type": "stream",
     "text": [
      "5\n",
      "10\n",
      "15\n",
      "20\n",
      "25\n",
      "30\n",
      "35\n",
      "40\n",
      "45\n",
      "50\n"
     ]
    }
   ],
   "source": [
    "for i in range(5,51,5):\n",
    "    print(i)"
   ]
  },
  {
   "cell_type": "code",
   "execution_count": null,
   "metadata": {},
   "outputs": [
    {
     "name": "stdout",
     "output_type": "stream",
     "text": [
      "0\n",
      "1\n",
      "2\n",
      "4\n"
     ]
    }
   ],
   "source": [
    "# pass, break , continue\n",
    "\n",
    "for i in range(5):\n",
    "    if i == 3:\n",
    "        pass\n",
    "    else:\n",
    "        print(i)"
   ]
  },
  {
   "cell_type": "code",
   "execution_count": null,
   "metadata": {},
   "outputs": [],
   "source": [
    "for i in range(5):\n",
    "    if i == 3:\n",
    "        continue\n",
    "    print(i)"
   ]
  },
  {
   "cell_type": "code",
   "execution_count": 9,
   "metadata": {},
   "outputs": [
    {
     "name": "stdout",
     "output_type": "stream",
     "text": [
      "0\n",
      "1\n"
     ]
    }
   ],
   "source": [
    "for i in range(5):\n",
    "    if i ==2:\n",
    "        break\n",
    "    print(i)"
   ]
  },
  {
   "cell_type": "code",
   "execution_count": 10,
   "metadata": {},
   "outputs": [
    {
     "name": "stdout",
     "output_type": "stream",
     "text": [
      "[24, 26, 28, 30, 32, 34, 36, 38, 40]\n"
     ]
    }
   ],
   "source": [
    "x = int(input(\"Please enter a number:\"))\n",
    "y = int(input(\"Please enter a number:\"))\n",
    "tmp = []\n",
    "for i in range(x,y+1):\n",
    "    if i%2==0:\n",
    "        tmp.append(i)\n",
    "\n",
    "print(tmp)"
   ]
  },
  {
   "cell_type": "code",
   "execution_count": null,
   "metadata": {},
   "outputs": [
    {
     "name": "stdout",
     "output_type": "stream",
     "text": [
      "19\n",
      "20\n"
     ]
    }
   ],
   "source": [
    "x = int(input(\"Please enter a number :\"))\n",
    "y = int(input(\"Please enter a number :\"))\n",
    "for i in range(x,y+1):\n",
    "    print(i)\n",
    "    if i%4 == 0:\n",
    "        break"
   ]
  },
  {
   "cell_type": "code",
   "execution_count": 39,
   "metadata": {},
   "outputs": [
    {
     "name": "stdout",
     "output_type": "stream",
     "text": [
      "HEllo\n"
     ]
    }
   ],
   "source": [
    "# True , False \n",
    "if -5 :\n",
    "    print(\"HEllo\")"
   ]
  },
  {
   "cell_type": "code",
   "execution_count": 41,
   "metadata": {},
   "outputs": [
    {
     "data": {
      "text/plain": [
       "1"
      ]
     },
     "execution_count": 41,
     "metadata": {},
     "output_type": "execute_result"
    }
   ],
   "source": [
    "i = 21\n",
    "i%4"
   ]
  },
  {
   "cell_type": "code",
   "execution_count": null,
   "metadata": {},
   "outputs": [],
   "source": []
  }
 ],
 "metadata": {
  "kernelspec": {
   "display_name": "base",
   "language": "python",
   "name": "python3"
  },
  "language_info": {
   "codemirror_mode": {
    "name": "ipython",
    "version": 3
   },
   "file_extension": ".py",
   "mimetype": "text/x-python",
   "name": "python",
   "nbconvert_exporter": "python",
   "pygments_lexer": "ipython3",
   "version": "3.12.3"
  }
 },
 "nbformat": 4,
 "nbformat_minor": 2
}
