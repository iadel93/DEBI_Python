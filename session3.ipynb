{
 "cells": [
  {
   "cell_type": "code",
   "execution_count": 4,
   "metadata": {},
   "outputs": [
    {
     "name": "stdout",
     "output_type": "stream",
     "text": [
      "12\n",
      "12\n"
     ]
    }
   ],
   "source": [
    "nums= []\n",
    "a = int(input(\"please enter a number :\"))\n",
    "b = int(input(\"please enter a number :\"))\n",
    "c = int(input(\"please enter a number :\"))\n",
    "nums.extend([a,b,c])\n",
    "print(nums[0] + nums[1] + nums[2])\n",
    "print(sum(nums))"
   ]
  },
  {
   "cell_type": "markdown",
   "metadata": {},
   "source": [
    "# Tuple"
   ]
  },
  {
   "cell_type": "code",
   "execution_count": 9,
   "metadata": {},
   "outputs": [
    {
     "name": "stdout",
     "output_type": "stream",
     "text": [
      "(3, 6, 1, 3, 5)\n",
      "<class 'tuple'>\n",
      "3\n"
     ]
    }
   ],
   "source": [
    "data = (3,6,1,3,5)\n",
    "print(data)\n",
    "print(type(data))\n",
    "\n",
    "# slicing\n",
    "print(data[3])\n",
    "\n",
    "# data[3] = 7 ERROR\n",
    "\n"
   ]
  },
  {
   "cell_type": "markdown",
   "metadata": {},
   "source": [
    "# dictionary"
   ]
  },
  {
   "cell_type": "code",
   "execution_count": null,
   "metadata": {},
   "outputs": [
    {
     "name": "stdout",
     "output_type": "stream",
     "text": [
      "{'Name': 'Islam', 'ID': 123456, 123: 111}\n",
      "<class 'dict'>\n",
      "Islam\n",
      "111\n",
      "{'Name': 'Islam', 'ID': 333444, 123: 111}\n",
      "{'Name': 'Islam', 'ID': 333444, 123: 111, 'City': '6 October'}\n",
      "{'Name': 'Islam', 'ID': 333444, 123: 111, 'City': 'Cairo'}\n",
      "{'Name': 'Islam', 'ID': 333444, 123: 111, 'City': 'Cairo', 'Gender': 'Male'}\n",
      "{'Name': 'Islam', 'ID': 333444, 123: 111, 'City': 'Cairo', 'Gender': 'Male'}\n",
      "{'Name': 'Islam', 'ID': 333444, 123: 111, 'City': 'Cairo', 'Gender': 'Male', 1: 123, 2: 456}\n"
     ]
    }
   ],
   "source": [
    "# data = {Key:Value}\n",
    "# Key --> can be int or str\n",
    "# Value --> can be any python object\n",
    "\n",
    "data = {\"Name\":\"Islam\", \"ID\":123456 , 123:111}\n",
    "print(data)\n",
    "print(type(data))\n",
    "\n",
    "# Slicing\n",
    "print(data['Name'])\n",
    "print(data[123])\n",
    "\n",
    "# Modify\n",
    "data['ID'] = 333444\n",
    "print(data)\n",
    "\n",
    "# Adding new items\n",
    "data[\"City\"] = \"6 October\"\n",
    "print(data)\n",
    "data[\"City\"] = \"Cairo\"\n",
    "print(data)\n",
    "\n",
    "data.setdefault(\"Gender\",\"Male\")\n",
    "print(data)\n",
    "data.setdefault(\"Gender\",\"MALE\")\n",
    "print(data)\n",
    "\n",
    "tmp = {1:123 , 2:456}\n",
    "data.update(tmp)\n",
    "print(data)"
   ]
  },
  {
   "cell_type": "code",
   "execution_count": 25,
   "metadata": {},
   "outputs": [
    {
     "name": "stdout",
     "output_type": "stream",
     "text": [
      "{'Name': 'Islam', 'ID': 333444, 123: 111, 'Gender': 'Male'}\n",
      "{'Name': 'Islam', 'ID': 333444, 123: 111}\n",
      "dict_keys(['Name', 'ID', 123])\n",
      "dict_values(['Islam', 333444, 111])\n",
      "dict_items([('Name', 'Islam'), ('ID', 333444), (123, 111)])\n"
     ]
    }
   ],
   "source": [
    "data = {'Name': 'Islam', 'ID': 333444, 123: 111, 'City': 'Cairo', 'Gender': 'Male'}\n",
    "\n",
    "# remove items\n",
    "data.pop(\"City\")\n",
    "print(data)\n",
    "\n",
    "data.popitem()\n",
    "print(data)\n",
    "\n",
    "# data.clear()\n",
    "# print(data)\n",
    "\n",
    "print(data.keys())\n",
    "print(data.values())\n",
    "print(data.items())"
   ]
  },
  {
   "cell_type": "code",
   "execution_count": null,
   "metadata": {},
   "outputs": [
    {
     "name": "stdout",
     "output_type": "stream",
     "text": [
      "{'ID': 123, 'Name': 'Ahmed', 'City': 'Cairo'}\n",
      "{'ID': 123, 'Name': 'Ahmed', 'City': 'Cairo'}\n"
     ]
    }
   ],
   "source": [
    "# Shallow Copy\n",
    "d1 = {\"ID\":123, \"Name\":\"Ahmed\"}\n",
    "d2 = d1\n",
    "d2.setdefault(\"City\",\"Cairo\")\n",
    "print(d1)\n",
    "print(d2)"
   ]
  },
  {
   "cell_type": "code",
   "execution_count": 27,
   "metadata": {},
   "outputs": [
    {
     "name": "stdout",
     "output_type": "stream",
     "text": [
      "{'ID': 123, 'Name': 'Ahmed'}\n",
      "{'ID': 123, 'Name': 'Ahmed', 'City': 'Cairo'}\n"
     ]
    }
   ],
   "source": [
    "# Deep Copy\n",
    "d1 = {\"ID\":123, \"Name\":\"Ahmed\"}\n",
    "d2 = d1.copy()\n",
    "d2.setdefault(\"City\",\"Cairo\")\n",
    "print(d1)\n",
    "print(d2)"
   ]
  },
  {
   "cell_type": "markdown",
   "metadata": {},
   "source": [
    "# Set"
   ]
  },
  {
   "cell_type": "code",
   "execution_count": 35,
   "metadata": {},
   "outputs": [
    {
     "name": "stdout",
     "output_type": "stream",
     "text": [
      "{34, 5, 54, 23, 668}\n",
      "<class 'set'>\n",
      "{6, 7}\n",
      "{34, 668, 54}\n",
      "{34, 5, 6, 7, 54, 23, 668}\n",
      "{5, 23}\n"
     ]
    }
   ],
   "source": [
    "nums = {23,54,23,5,668,34}\n",
    "print(nums)\n",
    "print(type(nums))\n",
    "\n",
    "tmp = {23,7,6,5}\n",
    "print(tmp.difference(nums))\n",
    "print(nums.difference(tmp))\n",
    "\n",
    "print(nums.union(tmp))\n",
    "\n",
    "print(nums.intersection(tmp))"
   ]
  },
  {
   "cell_type": "code",
   "execution_count": null,
   "metadata": {},
   "outputs": [],
   "source": []
  }
 ],
 "metadata": {
  "kernelspec": {
   "display_name": "base",
   "language": "python",
   "name": "python3"
  },
  "language_info": {
   "codemirror_mode": {
    "name": "ipython",
    "version": 3
   },
   "file_extension": ".py",
   "mimetype": "text/x-python",
   "name": "python",
   "nbconvert_exporter": "python",
   "pygments_lexer": "ipython3",
   "version": "3.12.3"
  }
 },
 "nbformat": 4,
 "nbformat_minor": 2
}
