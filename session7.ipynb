{
 "cells": [
  {
   "cell_type": "markdown",
   "metadata": {
    "id": "_v-_we3TS9XL"
   },
   "source": [
    "# Python Modules\n"
   ]
  },
  {
   "cell_type": "code",
   "execution_count": null,
   "metadata": {
    "colab": {
     "base_uri": "https://localhost:8080/"
    },
    "id": "InyUQ92A8vic",
    "outputId": "f76d62f1-d140-4ce7-950a-152d2c02edc3"
   },
   "outputs": [
    {
     "name": "stdout",
     "output_type": "stream",
     "text": [
      "9\n",
      "Ahmed\n"
     ]
    }
   ],
   "source": [
    "def add(x,y):\n",
    "  return x+y\n",
    "\n",
    "class entity():\n",
    "  def __init__(self,name,health,mana):\n",
    "    self.name=name\n",
    "    self.health=health\n",
    "    self.mana=mana\n",
    "    self.hamada  = 7080\n",
    "\n",
    "print(add(4,5))\n",
    "\n",
    "c = entity(\"Ahmed\",50,100)\n",
    "print(c.name)"
   ]
  },
  {
   "cell_type": "code",
   "execution_count": 39,
   "metadata": {
    "colab": {
     "base_uri": "https://localhost:8080/"
    },
    "id": "45wnQi9OSBoI",
    "outputId": "98a29fcd-ff22-4e6d-a540-159ae8f1f77b"
   },
   "outputs": [
    {
     "name": "stdout",
     "output_type": "stream",
     "text": [
      "9\n",
      "Ahmed\n"
     ]
    }
   ],
   "source": [
    "import utils\n",
    "\n",
    "print(utils.add(4,5))\n",
    "\n",
    "c = utils.entity(\"Ahmed\",50,100)\n",
    "print(c.name)"
   ]
  },
  {
   "cell_type": "code",
   "execution_count": 40,
   "metadata": {
    "colab": {
     "base_uri": "https://localhost:8080/"
    },
    "id": "hBkPwq0jSuC0",
    "outputId": "1d3b6a4f-63d1-440e-fe4e-f2dc25b3bb02"
   },
   "outputs": [
    {
     "name": "stdout",
     "output_type": "stream",
     "text": [
      "Ahmed\n"
     ]
    }
   ],
   "source": [
    "from utils import entity\n",
    "\n",
    "c = entity(\"Ahmed\",50,100)\n",
    "print(c.name)"
   ]
  },
  {
   "cell_type": "code",
   "execution_count": 41,
   "metadata": {
    "colab": {
     "base_uri": "https://localhost:8080/"
    },
    "id": "jBWFTy6hS7ov",
    "outputId": "35067e27-36c7-43bd-d631-e4b3ba122feb"
   },
   "outputs": [
    {
     "name": "stdout",
     "output_type": "stream",
     "text": [
      "Ahmed\n"
     ]
    }
   ],
   "source": [
    "from src.utils import entity\n",
    "\n",
    "c = entity(\"Ahmed\",50,100)\n",
    "print(c.name)"
   ]
  },
  {
   "cell_type": "code",
   "execution_count": 42,
   "metadata": {},
   "outputs": [
    {
     "name": "stdout",
     "output_type": "stream",
     "text": [
      "9\n"
     ]
    }
   ],
   "source": [
    "import src.utils as ut\n",
    "\n",
    "print(ut.add(3,6))"
   ]
  },
  {
   "cell_type": "code",
   "execution_count": null,
   "metadata": {
    "colab": {
     "base_uri": "https://localhost:8080/"
    },
    "id": "6ikE7KiNUoT5",
    "outputId": "2ccfab8e-839a-4606-a033-6335218b6336"
   },
   "outputs": [
    {
     "data": {
      "text/plain": [
       "['/content',\n",
       " '/env/python',\n",
       " '/usr/lib/python310.zip',\n",
       " '/usr/lib/python3.10',\n",
       " '/usr/lib/python3.10/lib-dynload',\n",
       " '',\n",
       " '/usr/local/lib/python3.10/dist-packages',\n",
       " '/usr/lib/python3/dist-packages',\n",
       " '/usr/local/lib/python3.10/dist-packages/IPython/extensions',\n",
       " '/usr/local/lib/python3.10/dist-packages/setuptools/_vendor',\n",
       " '/root/.ipython']"
      ]
     },
     "execution_count": 5,
     "metadata": {},
     "output_type": "execute_result"
    }
   ],
   "source": [
    "# Check all pathes that python can access\n",
    "import sys\n",
    "sys.path"
   ]
  },
  {
   "cell_type": "markdown",
   "metadata": {
    "id": "o2CXhBd5VrsD"
   },
   "source": [
    "# Installing Packages using PIP"
   ]
  },
  {
   "cell_type": "code",
   "execution_count": 8,
   "metadata": {
    "colab": {
     "base_uri": "https://localhost:8080/"
    },
    "id": "hrd1Dsv3WW2t",
    "outputId": "e513c703-6660-492b-f890-dbf1febede61"
   },
   "outputs": [
    {
     "name": "stdout",
     "output_type": "stream",
     "text": [
      "Requirement already satisfied: pandas in c:\\users\\engsm\\miniconda3\\lib\\site-packages (2.2.2)\n",
      "Requirement already satisfied: numpy>=1.26.0 in c:\\users\\engsm\\miniconda3\\lib\\site-packages (from pandas) (2.0.0)\n",
      "Requirement already satisfied: python-dateutil>=2.8.2 in c:\\users\\engsm\\miniconda3\\lib\\site-packages (from pandas) (2.9.0)\n",
      "Requirement already satisfied: pytz>=2020.1 in c:\\users\\engsm\\miniconda3\\lib\\site-packages (from pandas) (2024.1)\n",
      "Requirement already satisfied: tzdata>=2022.7 in c:\\users\\engsm\\miniconda3\\lib\\site-packages (from pandas) (2024.1)\n",
      "Requirement already satisfied: six>=1.5 in c:\\users\\engsm\\miniconda3\\lib\\site-packages (from python-dateutil>=2.8.2->pandas) (1.16.0)\n"
     ]
    }
   ],
   "source": [
    "!pip install pandas"
   ]
  },
  {
   "cell_type": "code",
   "execution_count": 9,
   "metadata": {
    "colab": {
     "base_uri": "https://localhost:8080/"
    },
    "id": "DQxeb71gU0Nd",
    "outputId": "061ce3b3-18e3-4f02-fa8c-0a679647d3c4"
   },
   "outputs": [
    {
     "name": "stdout",
     "output_type": "stream",
     "text": [
      "   sepal.length  sepal.width  petal.length  petal.width variety\n",
      "0           5.1          3.5           1.4          0.2  Setosa\n",
      "1           4.9          3.0           1.4          0.2  Setosa\n",
      "2           4.7          3.2           1.3          0.2  Setosa\n",
      "3           4.6          3.1           1.5          0.2  Setosa\n",
      "4           5.0          3.6           1.4          0.2  Setosa\n",
      "       sepal.length  sepal.width  petal.length  petal.width\n",
      "count    150.000000   150.000000    150.000000   150.000000\n",
      "mean       5.843333     3.057333      3.758000     1.199333\n",
      "std        0.828066     0.435866      1.765298     0.762238\n",
      "min        4.300000     2.000000      1.000000     0.100000\n",
      "25%        5.100000     2.800000      1.600000     0.300000\n",
      "50%        5.800000     3.000000      4.350000     1.300000\n",
      "75%        6.400000     3.300000      5.100000     1.800000\n",
      "max        7.900000     4.400000      6.900000     2.500000\n"
     ]
    }
   ],
   "source": [
    "import pandas as pd\n",
    "\n",
    "data = pd.read_csv(\"iris.csv\")\n",
    "print(data.head())\n",
    "print(data.describe())\n"
   ]
  },
  {
   "cell_type": "code",
   "execution_count": 43,
   "metadata": {
    "colab": {
     "base_uri": "https://localhost:8080/"
    },
    "id": "KWrrs4SAZdau",
    "outputId": "533bddf8-844e-42f2-83e1-723b88dfab62"
   },
   "outputs": [
    {
     "name": "stdout",
     "output_type": "stream",
     "text": [
      "Requirement already satisfied: opencv-python in c:\\users\\engsm\\miniconda3\\lib\\site-packages (4.10.0.84)\n",
      "Requirement already satisfied: numpy>=1.21.2 in c:\\users\\engsm\\miniconda3\\lib\\site-packages (from opencv-python) (2.0.0)\n"
     ]
    }
   ],
   "source": [
    "!pip install opencv-python"
   ]
  },
  {
   "cell_type": "code",
   "execution_count": 44,
   "metadata": {
    "colab": {
     "base_uri": "https://localhost:8080/"
    },
    "id": "HixsaJ8qWnZY",
    "outputId": "7c8d08bf-bebb-4ac2-e175-c38d446b845b"
   },
   "outputs": [
    {
     "data": {
      "text/plain": [
       "True"
      ]
     },
     "execution_count": 44,
     "metadata": {},
     "output_type": "execute_result"
    }
   ],
   "source": [
    "import cv2\n",
    "\n",
    "#read an image and rotate 180\n",
    "img = cv2.imread(\"chest.jpeg\")\n",
    "img = cv2.rotate(img, cv2.ROTATE_180)\n",
    "\n",
    "#save\n",
    "cv2.imwrite(\"rotated.jpg\", img)"
   ]
  },
  {
   "cell_type": "markdown",
   "metadata": {
    "id": "3WS8wLPShL4D"
   },
   "source": [
    "# Lambda"
   ]
  },
  {
   "cell_type": "code",
   "execution_count": 12,
   "metadata": {
    "colab": {
     "base_uri": "https://localhost:8080/"
    },
    "id": "6S87O8ESaJmB",
    "outputId": "e993a9f4-b59c-4223-bf51-b63bc6946a95"
   },
   "outputs": [
    {
     "name": "stdout",
     "output_type": "stream",
     "text": [
      "9\n"
     ]
    }
   ],
   "source": [
    "def add(x,y):\n",
    "  return x+y\n",
    "\n",
    "print(add(4,5))"
   ]
  },
  {
   "cell_type": "code",
   "execution_count": 45,
   "metadata": {
    "colab": {
     "base_uri": "https://localhost:8080/"
    },
    "id": "wuPQA71mhThP",
    "outputId": "db06703c-343f-4cd9-a5bf-7ff403ebc008"
   },
   "outputs": [
    {
     "name": "stdout",
     "output_type": "stream",
     "text": [
      "9\n"
     ]
    }
   ],
   "source": [
    "add = lambda x,y: x+y\n",
    "\n",
    "print(add(4,5))"
   ]
  },
  {
   "cell_type": "code",
   "execution_count": null,
   "metadata": {
    "colab": {
     "base_uri": "https://localhost:8080/"
    },
    "id": "me7F7FYahjXp",
    "outputId": "ef25a007-cba0-4e63-9f60-85fe176e2c13"
   },
   "outputs": [
    {
     "name": "stdout",
     "output_type": "stream",
     "text": [
      "Hello  Ahmed\n"
     ]
    }
   ],
   "source": [
    "say_hello = lambda name: print(\"Hello \",name)\n",
    "\n",
    "say_hello(\"Ahmed\")"
   ]
  },
  {
   "cell_type": "code",
   "execution_count": null,
   "metadata": {
    "colab": {
     "base_uri": "https://localhost:8080/"
    },
    "id": "YZBF5LiNiFMI",
    "outputId": "8ffdcd77-15ca-4357-b259-569e9a265fce"
   },
   "outputs": [
    {
     "name": "stdout",
     "output_type": "stream",
     "text": [
      "False\n"
     ]
    }
   ],
   "source": [
    "def is_even(x):\n",
    "  if x%2==0:\n",
    "    return True\n",
    "  else:\n",
    "    return False\n",
    "\n",
    "print(is_even(5))"
   ]
  },
  {
   "cell_type": "code",
   "execution_count": null,
   "metadata": {
    "colab": {
     "base_uri": "https://localhost:8080/"
    },
    "id": "xykjueHOhze3",
    "outputId": "535edd90-cc1f-4ecb-89bb-525d3111438f"
   },
   "outputs": [
    {
     "name": "stdout",
     "output_type": "stream",
     "text": [
      "False\n"
     ]
    }
   ],
   "source": [
    "# If else statement in the lambda\n",
    "is_even  = lambda x: True if x%2==0 else False\n",
    "\n",
    "print(is_even(5))"
   ]
  },
  {
   "cell_type": "code",
   "execution_count": null,
   "metadata": {
    "colab": {
     "base_uri": "https://localhost:8080/"
    },
    "id": "u4mvTuw8iQ7d",
    "outputId": "1bfb541b-e7ee-43cb-b518-799a74d932a9"
   },
   "outputs": [
    {
     "name": "stdout",
     "output_type": "stream",
     "text": [
      "Zero\n"
     ]
    }
   ],
   "source": [
    "# if , elif , else in lambda\n",
    "eval = lambda x : \"Positive\" if x > 0 else \"Negative\" if x < 0 else \"Zero\"\n",
    "\n",
    "print(eval(0))"
   ]
  },
  {
   "cell_type": "markdown",
   "metadata": {},
   "source": [
    "# List statement"
   ]
  },
  {
   "cell_type": "code",
   "execution_count": 14,
   "metadata": {},
   "outputs": [
    {
     "name": "stdout",
     "output_type": "stream",
     "text": [
      "[0, 1, 2, 3, 4]\n"
     ]
    }
   ],
   "source": [
    "nums = []\n",
    "for i in range(5):\n",
    "    nums.append(i)\n",
    "print(nums)"
   ]
  },
  {
   "cell_type": "code",
   "execution_count": 15,
   "metadata": {},
   "outputs": [
    {
     "name": "stdout",
     "output_type": "stream",
     "text": [
      "[0, 1, 2, 3, 4]\n"
     ]
    }
   ],
   "source": [
    "nums = [i for i in range(5)]\n",
    "print(nums)\n"
   ]
  },
  {
   "cell_type": "code",
   "execution_count": 16,
   "metadata": {},
   "outputs": [
    {
     "name": "stdout",
     "output_type": "stream",
     "text": [
      "Hello\n",
      "Hello\n",
      "Hello\n",
      "[None, None, None]\n"
     ]
    }
   ],
   "source": [
    "tmp = [print(\"Hello\") for i in range(3)]\n",
    "print(tmp)"
   ]
  },
  {
   "cell_type": "code",
   "execution_count": null,
   "metadata": {
    "colab": {
     "base_uri": "https://localhost:8080/"
    },
    "id": "2mR12M5tknVY",
    "outputId": "1d25399e-9b47-46d6-8af3-a9274a446626"
   },
   "outputs": [
    {
     "name": "stdout",
     "output_type": "stream",
     "text": [
      "[1, 4, 9, 16, 25]\n"
     ]
    }
   ],
   "source": [
    "# map\n",
    "\n",
    "nums = [1,2,3,4,5]\n",
    "\n",
    "squares = []\n",
    "\n",
    "for num in nums:\n",
    "  squares.append(num**2)\n",
    "\n",
    "print(squares)"
   ]
  },
  {
   "cell_type": "code",
   "execution_count": 50,
   "metadata": {
    "colab": {
     "base_uri": "https://localhost:8080/"
    },
    "id": "mVoNo9lPlDck",
    "outputId": "aac53a42-46a9-4ae7-bb96-8d6e2cbc91c7"
   },
   "outputs": [
    {
     "name": "stdout",
     "output_type": "stream",
     "text": [
      "[1, 4, 9, 16, 25]\n",
      "[1, 4, 9, 16, 25]\n"
     ]
    }
   ],
   "source": [
    "nums = [1,2,3,4,5]\n",
    "\n",
    "def square(x):\n",
    "    return x**2\n",
    "squares = list(map(square, nums))\n",
    "print(squares)\n",
    "\n",
    "squares = list(map(lambda x: x**2, nums))\n",
    "\n",
    "print(squares)"
   ]
  },
  {
   "cell_type": "code",
   "execution_count": null,
   "metadata": {
    "colab": {
     "base_uri": "https://localhost:8080/"
    },
    "id": "0dQyDS8TmrU4",
    "outputId": "67218193-5c78-42d5-f0bb-b4f7f5844050"
   },
   "outputs": [
    {
     "name": "stdout",
     "output_type": "stream",
     "text": [
      "[2, 4, 6, 8, 10]\n"
     ]
    }
   ],
   "source": [
    "def get_evens(nums):\n",
    "  evens = []\n",
    "  for num in nums:\n",
    "    if num%2==0:\n",
    "      evens.append(num)\n",
    "  return evens\n",
    "\n",
    "nums = [1,2,3,4,5,6,7,8,9,10]\n",
    "\n",
    "print(get_evens(nums))"
   ]
  },
  {
   "cell_type": "code",
   "execution_count": 51,
   "metadata": {
    "colab": {
     "base_uri": "https://localhost:8080/"
    },
    "id": "gcUSZZW_lR4a",
    "outputId": "a7215cad-3028-4e1b-bc7d-1701e3cdd36c"
   },
   "outputs": [
    {
     "name": "stdout",
     "output_type": "stream",
     "text": [
      "[2, 4, 6, 8, 10]\n"
     ]
    }
   ],
   "source": [
    "# filter\n",
    "nums = [1,2,3,4,5,6,7,8,9,10]\n",
    "\n",
    "evens = list(filter(lambda x: x%2==0, nums))\n",
    "\n",
    "print(evens)"
   ]
  },
  {
   "cell_type": "code",
   "execution_count": null,
   "metadata": {
    "colab": {
     "base_uri": "https://localhost:8080/"
    },
    "id": "KTuT7V_GnFjU",
    "outputId": "11b19200-a71a-45e4-efc4-602218d6bde8"
   },
   "outputs": [
    {
     "name": "stdout",
     "output_type": "stream",
     "text": [
      "[70, 80, 56]\n"
     ]
    }
   ],
   "source": [
    "grades = [12,45,70,80,30,56]\n",
    "\n",
    "passed = list(filter(lambda x: x>=50, grades))\n",
    "\n",
    "print(passed)\n"
   ]
  },
  {
   "cell_type": "code",
   "execution_count": 64,
   "metadata": {
    "id": "A8UEj_OFnmNx"
   },
   "outputs": [
    {
     "name": "stdout",
     "output_type": "stream",
     "text": [
      "[(10, 'Ahmed'), (20, 'Omar'), (30, 'Khaled')]\n",
      "10 Ahmed\n",
      "20 Omar\n",
      "30 Khaled\n",
      "{10: 'Ahmed', 20: 'Omar', 30: 'Khaled'}\n"
     ]
    }
   ],
   "source": [
    "# zip\n",
    "nums = [10,20,30]\n",
    "names = [\"Ahmed\",\"Omar\",\"Khaled\"]\n",
    "\n",
    "print(list(zip(nums,names)))\n",
    "\n",
    "for item in zip(nums,names):\n",
    "    print(item[0],item[1])\n",
    "\n",
    "data= {}\n",
    "for item in zip(nums,names):\n",
    "    data[item[0]] = item[1]\n",
    "\n",
    "print(data)"
   ]
  },
  {
   "cell_type": "code",
   "execution_count": 65,
   "metadata": {},
   "outputs": [],
   "source": [
    "tmp = zip(nums,names)"
   ]
  },
  {
   "cell_type": "code",
   "execution_count": 68,
   "metadata": {},
   "outputs": [
    {
     "data": {
      "text/plain": [
       "(30, 'Khaled')"
      ]
     },
     "execution_count": 68,
     "metadata": {},
     "output_type": "execute_result"
    }
   ],
   "source": [
    "next(tmp)"
   ]
  },
  {
   "cell_type": "markdown",
   "metadata": {},
   "source": [
    "Vowels Value :https://edabit.com/challenge/6NoaFGKJgRW6oXhLC"
   ]
  },
  {
   "cell_type": "code",
   "execution_count": 37,
   "metadata": {},
   "outputs": [
    {
     "name": "stdout",
     "output_type": "stream",
     "text": [
      "8\n",
      "10\n"
     ]
    }
   ],
   "source": [
    "vowels = {\n",
    "    \"a\": 4,\n",
    "    \"e\": 3,\n",
    "    \"i\": 1\n",
    "}\n",
    "\n",
    "\n",
    "def sum_of_vowels(s):\n",
    "    sum = 0\n",
    "    for c in s:\n",
    "        if c.lower() in vowels.keys():\n",
    "            sum += vowels[c.lower()]\n",
    "    \n",
    "    return sum\n",
    "    \n",
    "print(sum_of_vowels(\"lets test this function\"))\n",
    "print(sum_of_vowels(\"Do I get the correct output?\"))"
   ]
  },
  {
   "cell_type": "code",
   "execution_count": null,
   "metadata": {},
   "outputs": [],
   "source": []
  }
 ],
 "metadata": {
  "colab": {
   "provenance": []
  },
  "kernelspec": {
   "display_name": "base",
   "language": "python",
   "name": "python3"
  },
  "language_info": {
   "codemirror_mode": {
    "name": "ipython",
    "version": 3
   },
   "file_extension": ".py",
   "mimetype": "text/x-python",
   "name": "python",
   "nbconvert_exporter": "python",
   "pygments_lexer": "ipython3",
   "version": "3.12.3"
  }
 },
 "nbformat": 4,
 "nbformat_minor": 0
}
